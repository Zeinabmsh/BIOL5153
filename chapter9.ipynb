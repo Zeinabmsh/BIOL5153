{
 "cells": [
  {
   "cell_type": "code",
   "execution_count": 31,
   "metadata": {},
   "outputs": [],
   "source": [
    "import os\n",
    "import shutil\n",
    "#os.rename(\"out.txt\", \"new.txt\")"
   ]
  },
  {
   "cell_type": "code",
   "execution_count": 5,
   "metadata": {},
   "outputs": [],
   "source": [
    "os.rename(\"C:/Users/zmohamma/Desktop/new.txt\", \"C:/Users/zmohamma/Desktop/out.txt\")"
   ]
  },
  {
   "cell_type": "code",
   "execution_count": 11,
   "metadata": {},
   "outputs": [],
   "source": [
    "os.rename(\"C:/Users/zmohamma/Desktop/examples/new.txt\", \"C:/Users/zmohamma/Desktop/python/new.txt\")"
   ]
  },
  {
   "cell_type": "code",
   "execution_count": 14,
   "metadata": {},
   "outputs": [],
   "source": [
    "os.rename(\"C:/Users/zmohamma/Desktop/examples/new.txt\", \"C:/Users/zmohamma/Desktop/python/out.txt\")"
   ]
  },
  {
   "cell_type": "code",
   "execution_count": 15,
   "metadata": {},
   "outputs": [],
   "source": [
    "os.rename(\"C:/Users/zmohamma/Desktop/examples\", \"C:/Users/zmohamma/Desktop/python_examples\")"
   ]
  },
  {
   "cell_type": "code",
   "execution_count": 16,
   "metadata": {},
   "outputs": [],
   "source": [
    "os.mkdir (\"C:/Users/zmohamma/Desktop/examples\")"
   ]
  },
  {
   "cell_type": "code",
   "execution_count": 32,
   "metadata": {},
   "outputs": [
    {
     "data": {
      "text/plain": [
       "'C:/Users/zmohamma/Desktop/examples/copy.txt'"
      ]
     },
     "execution_count": 32,
     "metadata": {},
     "output_type": "execute_result"
    }
   ],
   "source": [
    "shutil.copyfile(\"C:/Users/zmohamma/Desktop/new.txt\", \"C:/Users/zmohamma/Desktop/examples/copy.txt\")"
   ]
  },
  {
   "cell_type": "code",
   "execution_count": 28,
   "metadata": {},
   "outputs": [
    {
     "name": "stdout",
     "output_type": "stream",
     "text": [
      "You have mail!\n"
     ]
    }
   ],
   "source": [
    "if os.path.exists(\"C:/Users/zmohamma/Desktop/new.txt\"):\n",
    "    print(\"You have mail!\")"
   ]
  },
  {
   "cell_type": "code",
   "execution_count": null,
   "metadata": {},
   "outputs": [],
   "source": [
    "os.remove(\"/home/martin/unwanted_file.txt\")"
   ]
  },
  {
   "cell_type": "code",
   "execution_count": 34,
   "metadata": {},
   "outputs": [
    {
     "data": {
      "text/plain": [
       "1"
      ]
     },
     "execution_count": 34,
     "metadata": {},
     "output_type": "execute_result"
    }
   ],
   "source": [
    "subprocess.call(\"/bin/date +%B\", shell=True)"
   ]
  },
  {
   "cell_type": "code",
   "execution_count": 36,
   "metadata": {},
   "outputs": [],
   "source": [
    "dna = \"ATCGATCGTGACTAGCTACG\""
   ]
  },
  {
   "cell_type": "code",
   "execution_count": 48,
   "metadata": {},
   "outputs": [
    {
     "name": "stdout",
     "output_type": "stream",
     "text": [
      "Enter the accession namehello\n",
      "hello\n"
     ]
    }
   ],
   "source": [
    "accession = input(\"Enter the accession name\")\n",
    "print(accession)"
   ]
  },
  {
   "cell_type": "code",
   "execution_count": 40,
   "metadata": {},
   "outputs": [
    {
     "name": "stdout",
     "output_type": "stream",
     "text": [
      "['C:\\\\Users\\\\zmohamma\\\\AppData\\\\Local\\\\Continuum\\\\anaconda3\\\\lib\\\\site-packages\\\\ipykernel_launcher.py', '-f', 'C:\\\\Users\\\\zmohamma\\\\AppData\\\\Roaming\\\\jupyter\\\\runtime\\\\kernel-90820ff2-8a24-4fbb-ad5f-27569ee263d9.json']\n"
     ]
    }
   ],
   "source": [
    "import sys\n",
    "print(sys.argv) "
   ]
  },
  {
   "cell_type": "code",
   "execution_count": 54,
   "metadata": {},
   "outputs": [
    {
     "name": "stderr",
     "output_type": "stream",
     "text": [
      "ERROR:root:File `\"'myprogram.py\"` not found.\n"
     ]
    }
   ],
   "source": [
    "%run -i 'myprogram.py one two three'"
   ]
  },
  {
   "cell_type": "code",
   "execution_count": 50,
   "metadata": {},
   "outputs": [],
   "source": [
    "import os\n",
    "for file_name in os.listdir(\".\"):\n",
    "     if file_name.endswith(\".dna\"):\n",
    "        print(\"reading sequences from \" + file_name) "
   ]
  },
  {
   "cell_type": "code",
   "execution_count": 42,
   "metadata": {},
   "outputs": [
    {
     "ename": "IndentationError",
     "evalue": "unindent does not match any outer indentation level (<tokenize>, line 7)",
     "output_type": "error",
     "traceback": [
      "\u001b[1;36m  File \u001b[1;32m\"<tokenize>\"\u001b[1;36m, line \u001b[1;32m7\u001b[0m\n\u001b[1;33m    for line in dna_file:\u001b[0m\n\u001b[1;37m    ^\u001b[0m\n\u001b[1;31mIndentationError\u001b[0m\u001b[1;31m:\u001b[0m unindent does not match any outer indentation level\n"
     ]
    }
   ],
   "source": [
    "# look at each file\n",
    "for file_name in os.listdir(\".\"):\n",
    "     if file_name.endswith(\".dna\"):\n",
    "        print(\"reading sequences from \" + file_name)\n",
    "        dna_file = open(file_name)\n",
    "       # look at each line\n",
    "      for line in dna_file:\n",
    "        dna = line.rstrip(\"\\n\")\n",
    "         length = len(dna)\n",
    "            print(\"found a dna sequence with length \" + str(length)) "
   ]
  },
  {
   "cell_type": "code",
   "execution_count": 43,
   "metadata": {},
   "outputs": [
    {
     "name": "stdout",
     "output_type": "stream",
     "text": [
      "examples \n"
     ]
    }
   ],
   "source": [
    "for examples in os.listdir(\"C:/Users/zmohamma/Desktop/examples\"):\n",
    "       print(\"examples \")"
   ]
  },
  {
   "cell_type": "code",
   "execution_count": 47,
   "metadata": {},
   "outputs": [
    {
     "data": {
      "text/plain": [
       "CompletedProcess(args='C:\\\\Program Files (x86)\\\\Internet Explorer\\\\iexplore', returncode=1)"
      ]
     },
     "execution_count": 47,
     "metadata": {},
     "output_type": "execute_result"
    }
   ],
   "source": [
    "import subprocess\n",
    "subprocess.run(\"C:\\Program Files (x86)\\Internet Explorer\\iexplore\")"
   ]
  },
  {
   "cell_type": "code",
   "execution_count": 62,
   "metadata": {},
   "outputs": [
    {
     "name": "stdout",
     "output_type": "stream",
     "text": [
      "['.ipynb_checkpoints', '09_python-02.pptx', 'Atungulu et al Proposal +LH.pdf', 'Atungulu et al Proposal.docx', 'azdez.pdf', 'befrestam', 'chapter_9.py', 'desktop.ini', 'Dr. Howard', 'ESEM', 'ESEM revised.docx', 'examples', 'exercises and examples', 'exp.xlsx', 'expriment.xlsx', 'EXTRA', 'fall 2017', 'fall 2017 research', 'finalize your master', 'fungal pigments', 'FUNGI FOUND ON ROUGH RICE', 'group meeting fall semester', 'information.docx', 'Integrated-management-of-insects-in-stored-products.epub', 'just do it', 'master feb 2018', 'master format.rtf', 'mc calculation.xlsx', 'my research.xlsx', 'natamycin 1.pdf', 'new.txt', 'paper discussion food packaging', 'pdf to  word.pdf', 'pdf to  word.rtf', 'PhD', 'pigments cindi', 'Presentation1.pptx', 'processing presentation', 'programs', 'python', 'python_examples', 'research 2018.xlsx', 'rice standards', 'rice.pptx', 'sequencin with shantae', 'Shantae Wilson+ GA.pdf', 'spring 2018', 'sssssssssssss.ipynb', 'thesis (1).xlsx', 'thesis.xlsx', 'Untitled.ipynb', 'Untitled.png', 'Untitled1.ipynb', 'Untitled1.png', 'Zeinab Master.docx', 'Zeinab-ESEM.docx', '~$Presentation1.pptx']\n"
     ]
    }
   ],
   "source": [
    "import os\n",
    "print(os.listdir())"
   ]
  },
  {
   "cell_type": "code",
   "execution_count": 65,
   "metadata": {},
   "outputs": [
    {
     "name": "stdout",
     "output_type": "stream",
     "text": [
      "DNA 100-199\n",
      "DNA 200-299\n",
      "DNA 300-399\n",
      "DNA 400-499\n",
      "DNA 500-599\n",
      "DNA 600-699\n",
      "DNA 700-799\n",
      "DNA 800-899\n",
      "DNA 900-999\n"
     ]
    }
   ],
   "source": [
    "import os\n",
    "\n",
    "folderList=[]\n",
    "for i in range(9):\n",
    "    folderName=\"DNA \"+str(100*(i+1))+\"-\"+str(100*(i+2)-1)\n",
    "    folderList.append(folderName)\n",
    "    print(folderList[i])\n",
    "    if not os.path.exists(folderName):\n",
    "        os.mkdir(folderName)\n",
    "\n",
    "\n",
    "fs=os.listdir()\n",
    "for item in fs:\n",
    "    if '.dna' in item:\n",
    "        print(item)\n",
    "        dna_file = open(item)\n",
    "\n",
    "        for line in dna_file:\n",
    "             dna = line.rstrip(\"\\n\")\n",
    "             length = len(dna)\n",
    "             print(\"found a dna sequence with length \" + str(length)) \n",
    "             if length>=100 and length<=199:\n",
    "                fileName=\"DNA 100-199.txt\"\n",
    "                filePath=os.path.join(folderList[0],fileName)\n",
    "                with open(filePath,'a') as F:\n",
    "                    F.write(\"---DNA---\\n\")\n",
    "                    F.write(dna+\"\\n\")\n",
    "             if length>=200 and length<=299:\n",
    "                fileName=\"DNA 200-299.txt\"\n",
    "                filePath=os.path.join(folderList[1],fileName)\n",
    "                with open(filePath,'a') as F:\n",
    "                    F.write(\"---DNA---\\n\")\n",
    "                    F.write(dna+\"\\n\") \n",
    "             if length>=300 and length<=399:\n",
    "                fileName=\"DNA 300-399.txt\"\n",
    "                filePath=os.path.join(folderList[2],fileName)\n",
    "                with open(filePath,'a') as F:\n",
    "                    F.write(\"---DNA---\")\n",
    "                    F.write(dna+\"\\n\")   \n",
    "             if length>=400 and length<=499:\n",
    "                fileName=\"DNA 400-499.txt\"\n",
    "                filePath=os.path.join(folderList[3],fileName)\n",
    "                with open(filePath,'a') as F:\n",
    "                    F.write(\"---DNA---\\n\")\n",
    "                    F.write(dna+\"\\n\")\n",
    "             if length>=500 and length<=599:\n",
    "                fileName=\"DNA 500-599.txt\"\n",
    "                filePath=os.path.join(folderList[4],fileName)\n",
    "                with open(filePath,'a') as F:\n",
    "                    F.write(\"---DNA---\\n\")\n",
    "                    F.write(dna+\"\\n\") \n",
    "             if length>=600 and length<=699:\n",
    "                fileName=\"DNA 600-699.txt\"\n",
    "                filePath=os.path.join(folderList[5],fileName)\n",
    "                with open(filePath,'a') as F:\n",
    "                    F.write(\"---DNA---\\n\")\n",
    "                    F.write(dna+\"\\n\")                    \n",
    "             if length>=700 and length<=799:\n",
    "                fileName=\"DNA 700-799.txt\"\n",
    "                filePath=os.path.join(folderList[6],fileName)\n",
    "                with open(filePath,'a') as F:\n",
    "                    F.write(\"---DNA---\\n\")\n",
    "                    F.write(dna+\"\\n\")\n",
    "             if length>=800 and length<=899:\n",
    "                fileName=\"DNA 800-899.txt\"\n",
    "                filePath=os.path.join(folderList[7],fileName)\n",
    "                with open(filePath,'a') as F:\n",
    "                    F.write(\"---DNA---\\n\")\n",
    "                    F.write(dna+\"\\n\") \n",
    "             if length>=900 and length<=999:\n",
    "                fileName=\"DNA 900-999.txt\"\n",
    "                filePath=os.path.join(folderList[8],fileName)\n",
    "                with open(filePath,'a') as F:\n",
    "                    F.write(\"---DNA---\\n\")\n",
    "                    F.write(dna+\"\\n\")                                        "
   ]
  },
  {
   "cell_type": "code",
   "execution_count": 67,
   "metadata": {},
   "outputs": [
    {
     "name": "stdout",
     "output_type": "stream",
     "text": [
      "DNA 100-199\n",
      "DNA 200-299\n",
      "DNA 300-399\n",
      "DNA 400-499\n",
      "DNA 500-599\n",
      "DNA 600-699\n",
      "DNA 700-799\n",
      "DNA 800-899\n",
      "DNA 900-999\n",
      "xaa.dna\n",
      "found a dna sequence with length 333\n",
      "found a dna sequence with length 283\n",
      "found a dna sequence with length 380\n",
      "found a dna sequence with length 115\n",
      "found a dna sequence with length 753\n",
      "found a dna sequence with length 764\n",
      "found a dna sequence with length 234\n",
      "found a dna sequence with length 117\n",
      "found a dna sequence with length 906\n",
      "found a dna sequence with length 160\n",
      "xab.dna\n",
      "found a dna sequence with length 833\n",
      "found a dna sequence with length 390\n",
      "found a dna sequence with length 355\n",
      "found a dna sequence with length 968\n",
      "found a dna sequence with length 999\n",
      "found a dna sequence with length 257\n",
      "found a dna sequence with length 909\n",
      "found a dna sequence with length 236\n",
      "found a dna sequence with length 943\n",
      "found a dna sequence with length 703\n",
      "xac.dna\n",
      "found a dna sequence with length 665\n",
      "found a dna sequence with length 165\n",
      "found a dna sequence with length 677\n",
      "found a dna sequence with length 454\n",
      "found a dna sequence with length 426\n",
      "found a dna sequence with length 600\n",
      "found a dna sequence with length 177\n",
      "found a dna sequence with length 888\n",
      "found a dna sequence with length 535\n",
      "found a dna sequence with length 974\n",
      "xad.dna\n",
      "found a dna sequence with length 949\n",
      "found a dna sequence with length 453\n",
      "found a dna sequence with length 988\n",
      "found a dna sequence with length 420\n",
      "found a dna sequence with length 767\n",
      "found a dna sequence with length 221\n",
      "found a dna sequence with length 316\n",
      "found a dna sequence with length 573\n",
      "found a dna sequence with length 231\n",
      "found a dna sequence with length 409\n",
      "xae.dna\n",
      "found a dna sequence with length 600\n",
      "found a dna sequence with length 707\n",
      "found a dna sequence with length 853\n",
      "found a dna sequence with length 971\n",
      "found a dna sequence with length 279\n",
      "found a dna sequence with length 533\n",
      "found a dna sequence with length 452\n",
      "found a dna sequence with length 332\n",
      "found a dna sequence with length 990\n",
      "found a dna sequence with length 899\n",
      "xaf.dna\n",
      "found a dna sequence with length 242\n",
      "found a dna sequence with length 714\n",
      "found a dna sequence with length 291\n",
      "found a dna sequence with length 313\n",
      "found a dna sequence with length 926\n",
      "found a dna sequence with length 738\n",
      "found a dna sequence with length 516\n",
      "found a dna sequence with length 218\n",
      "found a dna sequence with length 558\n",
      "found a dna sequence with length 465\n",
      "xag.dna\n",
      "found a dna sequence with length 432\n",
      "found a dna sequence with length 818\n",
      "found a dna sequence with length 604\n",
      "found a dna sequence with length 879\n",
      "found a dna sequence with length 619\n",
      "found a dna sequence with length 500\n",
      "found a dna sequence with length 119\n",
      "found a dna sequence with length 341\n",
      "found a dna sequence with length 303\n",
      "found a dna sequence with length 469\n",
      "xah.dna\n",
      "found a dna sequence with length 575\n",
      "found a dna sequence with length 987\n",
      "found a dna sequence with length 141\n",
      "found a dna sequence with length 590\n",
      "found a dna sequence with length 833\n",
      "found a dna sequence with length 200\n",
      "found a dna sequence with length 539\n",
      "found a dna sequence with length 625\n",
      "found a dna sequence with length 363\n",
      "found a dna sequence with length 779\n",
      "xai.dna\n",
      "found a dna sequence with length 317\n",
      "found a dna sequence with length 382\n",
      "found a dna sequence with length 324\n",
      "found a dna sequence with length 747\n",
      "found a dna sequence with length 353\n",
      "found a dna sequence with length 878\n",
      "found a dna sequence with length 692\n",
      "found a dna sequence with length 806\n",
      "found a dna sequence with length 118\n",
      "found a dna sequence with length 556\n",
      "xaj.dna\n",
      "found a dna sequence with length 121\n",
      "found a dna sequence with length 442\n",
      "found a dna sequence with length 520\n",
      "found a dna sequence with length 866\n",
      "found a dna sequence with length 969\n",
      "found a dna sequence with length 672\n",
      "found a dna sequence with length 138\n",
      "found a dna sequence with length 922\n",
      "found a dna sequence with length 652\n",
      "found a dna sequence with length 749\n"
     ]
    }
   ],
   "source": [
    "import os\n",
    "\n",
    "folderList=[]\n",
    "for i in range(9):\n",
    "    folderName=\"DNA \"+str(100*(i+1))+\"-\"+str(100*(i+2)-1)\n",
    "    folderList.append(folderName)\n",
    "    print(folderList[i])\n",
    "    if not os.path.exists(folderName):\n",
    "        os.mkdir(folderName)\n",
    "\n",
    "\n",
    "fs=os.listdir()\n",
    "for item in fs:\n",
    "    if '.dna' in item:\n",
    "        print(item)\n",
    "        dna_file = open(item)\n",
    "\n",
    "        for line in dna_file:\n",
    "             dna = line.rstrip(\"\\n\")\n",
    "             length = len(dna)\n",
    "             print(\"found a dna sequence with length \" + str(length)) \n",
    "             if length>=100 and length<=199:\n",
    "                fileName=\"DNA 100-199.txt\"\n",
    "                filePath=os.path.join(folderList[0],fileName)\n",
    "                with open(filePath,'a') as F:\n",
    "                    F.write(\"---DNA---\\n\")\n",
    "                    F.write(dna+\"\\n\")\n",
    "             if length>=200 and length<=299:\n",
    "                fileName=\"DNA 200-299.txt\"\n",
    "                filePath=os.path.join(folderList[1],fileName)\n",
    "                with open(filePath,'a') as F:\n",
    "                    F.write(\"---DNA---\\n\")\n",
    "                    F.write(dna+\"\\n\") \n",
    "             if length>=300 and length<=399:\n",
    "                fileName=\"DNA 300-399.txt\"\n",
    "                filePath=os.path.join(folderList[2],fileName)\n",
    "                with open(filePath,'a') as F:\n",
    "                    F.write(\"---DNA---\")\n",
    "                    F.write(dna+\"\\n\")   \n",
    "             if length>=400 and length<=499:\n",
    "                fileName=\"DNA 400-499.txt\"\n",
    "                filePath=os.path.join(folderList[3],fileName)\n",
    "                with open(filePath,'a') as F:\n",
    "                    F.write(\"---DNA---\\n\")\n",
    "                    F.write(dna+\"\\n\")\n",
    "             if length>=500 and length<=599:\n",
    "                fileName=\"DNA 500-599.txt\"\n",
    "                filePath=os.path.join(folderList[4],fileName)\n",
    "                with open(filePath,'a') as F:\n",
    "                    F.write(\"---DNA---\\n\")\n",
    "                    F.write(dna+\"\\n\") \n",
    "             if length>=600 and length<=699:\n",
    "                fileName=\"DNA 600-699.txt\"\n",
    "                filePath=os.path.join(folderList[5],fileName)\n",
    "                with open(filePath,'a') as F:\n",
    "                    F.write(\"---DNA---\\n\")\n",
    "                    F.write(dna+\"\\n\")                    \n",
    "             if length>=700 and length<=799:\n",
    "                fileName=\"DNA 700-799.txt\"\n",
    "                filePath=os.path.join(folderList[6],fileName)\n",
    "                with open(filePath,'a') as F:\n",
    "                    F.write(\"---DNA---\\n\")\n",
    "                    F.write(dna+\"\\n\")\n",
    "             if length>=800 and length<=899:\n",
    "                fileName=\"DNA 800-899.txt\"\n",
    "                filePath=os.path.join(folderList[7],fileName)\n",
    "                with open(filePath,'a') as F:\n",
    "                    F.write(\"---DNA---\\n\")\n",
    "                    F.write(dna+\"\\n\") \n",
    "             if length>=900 and length<=999:\n",
    "                fileName=\"DNA 900-999.txt\"\n",
    "                filePath=os.path.join(folderList[8],fileName)\n",
    "                with open(filePath,'a') as F:\n",
    "                    F.write(\"---DNA---\\n\")\n",
    "                    F.write(dna+\"\\n\")                                        "
   ]
  },
  {
   "cell_type": "code",
   "execution_count": 68,
   "metadata": {},
   "outputs": [
    {
     "name": "stdout",
     "output_type": "stream",
     "text": [
      "ACTGTAGCTGTACGTAGC\n",
      "ACTG\n",
      "CTGT\n",
      "TGTA\n",
      "GTAG\n",
      "TAGC\n",
      "AGCT\n",
      "GCTG\n",
      "CTGT\n",
      "TGTA\n",
      "GTAC\n",
      "TACG\n",
      "ACGT\n",
      "CGTA\n",
      "GTAG\n",
      "TAGC\n"
     ]
    }
   ],
   "source": [
    "test_dna = \"ACTGTAGCTGTACGTAGC\"\n",
    "print(test_dna)\n",
    "kmer_size = 4\n",
    "for start in range(0,len(test_dna)-(kmer_size-1),1):\n",
    " kmer = test_dna[start:start+kmer_size]\n",
    " print(kmer)"
   ]
  },
  {
   "cell_type": "code",
   "execution_count": 70,
   "metadata": {},
   "outputs": [
    {
     "ename": "IndentationError",
     "evalue": "expected an indented block (<ipython-input-70-87609afef11c>, line 4)",
     "output_type": "error",
     "traceback": [
      "\u001b[1;36m  File \u001b[1;32m\"<ipython-input-70-87609afef11c>\"\u001b[1;36m, line \u001b[1;32m4\u001b[0m\n\u001b[1;33m    kmer = dna[start:start+kmer_size]\u001b[0m\n\u001b[1;37m       ^\u001b[0m\n\u001b[1;31mIndentationError\u001b[0m\u001b[1;31m:\u001b[0m expected an indented block\n"
     ]
    }
   ],
   "source": [
    "def split_dna(dna, kmer_size):\n",
    "    kmers = []\n",
    "    for start in range(0,len(dna)-(kmer_size-1),1):\n",
    "    kmer = dna[start:start+kmer_size]\n",
    "    kmers.append(kmer)\n",
    "    return kmers\n",
    "\n",
    "\n",
    "print(split_dna(\"AATGCTGCAT\", 4))\n",
    "print(split_dna(\"AATGCTGCAT\", 5))\n",
    "print(split_dna(\"AATGCTGCAT\", 6)) "
   ]
  },
  {
   "cell_type": "code",
   "execution_count": 71,
   "metadata": {},
   "outputs": [
    {
     "name": "stdout",
     "output_type": "stream",
     "text": [
      "reading sequences from xaa.dna\n",
      "reading sequences from xab.dna\n",
      "reading sequences from xac.dna\n",
      "reading sequences from xad.dna\n",
      "reading sequences from xae.dna\n",
      "reading sequences from xaf.dna\n",
      "reading sequences from xag.dna\n",
      "reading sequences from xah.dna\n",
      "reading sequences from xai.dna\n",
      "reading sequences from xaj.dna\n",
      "{'ctgtaa': 17, 'tgtaac': 15, 'gtaact': 17, 'taactt': 13, 'aactta': 13, 'acttag': 13, 'cttagt': 16, 'ttagtt': 11, 'tagttg': 15, 'agttgg': 12, 'gttggc': 11, 'ttggct': 14, 'tggctc': 14, 'ggctct': 14, 'gctctt': 9, 'ctcttt': 12, 'tctttc': 17, 'ctttcg': 17, 'tttcgt': 15, 'ttcgta': 21, 'tcgtag': 8, 'cgtagc': 12, 'gtagcc': 23, 'tagccc': 13, 'agccca': 16, 'gcccat': 16, 'cccatt': 17, 'ccattg': 17, 'cattgt': 19, 'attgtc': 13, 'ttgtcg': 14, 'tgtcgg': 12, 'gtcggg': 10, 'tcgggc': 14, 'cgggct': 10, 'gggcta': 7, 'ggctag': 18, 'gctagc': 21, 'ctagct': 21, 'tagcta': 18, 'agctat': 13, 'gctatt': 12, 'ctattt': 13, 'tatttc': 15, 'atttca': 14, 'tttcac': 15, 'ttcact': 19, 'tcactc': 22, 'cactcc': 17, 'actccc': 14, 'ctcccg': 15, 'tcccgc': 17, 'cccgcg': 16, 'ccgcgg': 19, 'cgcggg': 21, 'gcgggg': 12, 'cggggg': 17, 'gggggt': 14, 'ggggtc': 20, 'gggtct': 15, 'ggtctc': 14, 'gtctcc': 8, 'tctccg': 13, 'ctccgc': 11, 'tccgcg': 11, 'ccgcgt': 7, 'cgcgtg': 12, 'gcgtgg': 17, 'cgtgga': 14, 'gtggat': 17, 'tggatg': 21, 'ggatgg': 15, 'gatgga': 12, 'atggac': 6, 'tggacg': 11, 'ggacgt': 27, 'gacgtg': 17, 'acgtgg': 11, 'cgtggt': 14, 'gtggta': 10, 'tggtac': 11, 'ggtacc': 10, 'gtacct': 15, 'tacctg': 17, 'acctga': 19, 'cctgat': 20, 'ctgatt': 11, 'tgattg': 14, 'gattgg': 13, 'attggt': 12, 'ttggtt': 11, 'tggttc': 17, 'ggttcc': 12, 'gttccc': 10, 'ttcccc': 9, 'tcccca': 7, 'ccccag': 10, 'cccagc': 24, 'ccagca': 11, 'cagcac': 8, 'agcacc': 8, 'gcaccc': 10, 'cacccg': 12, 'acccgc': 10, 'cccgct': 13, 'ccgcta': 22, 'cgctag': 20, 'ctagca': 14, 'tagcag': 14, 'agcagt': 23, 'gcagtg': 19, 'cagtgg': 10, 'agtggt': 15, 'gtggtg': 18, 'tggtgt': 11, 'ggtgtc': 11, 'gtgtca': 12, 'tgtcat': 18, 'gtcatt': 17, 'tcattc': 11, 'cattca': 14, 'attcac': 22, 'ttcacc': 19, 'tcacca': 11, 'caccac': 16, 'accacg': 7, 'ccacga': 14, 'cacgac': 16, 'acgacc': 19, 'cgaccg': 10, 'gaccgc': 11, 'accgcc': 14, 'ccgcca': 8, 'cgccaa': 12, 'gccaaa': 15, 'ccaaat': 18, 'caaata': 13, 'aaataa': 13, 'aataac': 21, 'ataaca': 22, 'taacat': 12, 'aacatt': 16, 'acattt': 17, 'catttt': 18, 'attttg': 10, 'ttttga': 11, 'tttgaa': 7, 'ttgaat': 13, 'tgaatg': 12, 'gaatgt': 20, 'aatgtg': 13, 'atgtga': 14, 'tgtgaa': 14, 'gtgaac': 13, 'tgaacg': 19, 'gaacgc': 17, 'aacgcc': 20, 'acgccg': 13, 'cgccgg': 18, 'gccggt': 19, 'ccggtg': 12, 'cggtga': 14, 'ggtgaa': 11, 'tgaacc': 11, 'gaacca': 11, 'aaccaa': 17, 'accaaa': 17, 'aaatag': 19, 'aatagc': 16, 'atagcc': 10, 'tagccg': 12, 'agccgt': 11, 'gccgtg': 14, 'ccgtga': 22, 'cgtgag': 17, 'gtgaga': 10, 'tgagaa': 11, 'gagaaa': 11, 'agaaac': 11, 'gaaact': 20, 'aaactc': 11, 'aactca': 16, 'actcac': 22, 'ctcacg': 12, 'tcacgc': 12, 'cacgcg': 17, 'acgcgg': 14, 'gcgggt': 25, 'cgggtg': 8, 'gggtgg': 11, 'ggtgga': 16, 'gtggac': 16, 'tggacc': 12, 'ggacct': 9, 'gaccta': 12, 'acctaa': 16, 'cctaac': 18, 'ctaacg': 15, 'taacgt': 15, 'aacgtc': 16, 'acgtcg': 21, 'cgtcgg': 19, 'tcggga': 14, 'cgggac': 10, 'gggaca': 9, 'ggacac': 12, 'gacact': 11, 'acactg': 10, 'cactgt': 12, 'actgtc': 12, 'ctgtcc': 9, 'tgtcca': 15, 'gtccaa': 9, 'tccaat': 7, 'ccaata': 14, 'caatac': 15, 'aatacg': 16, 'atacgg': 12, 'tacggg': 10, 'acgggt': 10, 'cgggta': 19, 'gggtat': 16, 'ggtatt': 17, 'gtattc': 16, 'tattct': 16, 'attcta': 18, 'ttctag': 16, 'tctagg': 24, 'ctagga': 22, 'taggat': 12, 'aggata': 10, 'ggataa': 19, 'gataag': 14, 'ataaga': 10, 'taagaa': 16, 'aagaac': 10, 'agaaca': 13, 'gaacat': 19, 'aacata': 16, 'acatac': 12, 'catacc': 13, 'atacct': 13, 'taccta': 16, 'acctac': 12, 'cctact': 15, 'ctactc': 19, 'tactct': 13, 'actcta': 10, 'ctctat': 10, 'tctatg': 8, 'ctatgt': 13, 'tatgtc': 10, 'atgtca': 14, 'tcattt': 16, 'cattta': 16, 'atttac': 19, 'tttacg': 12, 'ttacga': 13, 'tacgag': 14, 'acgagt': 15, 'cgagtg': 17, 'gagtgc': 8, 'agtgca': 14, 'gtgcaa': 10, 'tgcaaa': 15, 'gcaaag': 14, 'caaagc': 16, 'aaagca': 18, 'aagcac': 14, 'agcact': 11, 'gcacta': 12, 'cactac': 14, 'actaca': 9, 'ctacat': 12, 'tacata': 19, 'acatat': 22, 'catata': 17, 'atatat': 12, 'tatatc': 10, 'atatct': 20, 'tatctt': 23, 'atcttc': 16, 'tcttct': 21, 'cttcta': 15, 'ttctaa': 11, 'tctaaa': 15, 'ctaaag': 14, 'taaagg': 11, 'aaaggt': 13, 'aaggtc': 9, 'aggtcg': 10, 'ggtcgg': 9, 'gtcgga': 11, 'tcggag': 14, 'cggagg': 16, 'ggagga': 16, 'gaggac': 14, 'aggacg': 21, 'acgtgt': 13, 'cgtgta': 11, 'gtgtag': 15, 'tgtaga': 17, 'gtagat': 14, 'tagata': 16, 'agatag': 19, 'gataga': 9, 'atagat': 14, 'agatat': 15, 'gatatt': 11, 'atatta': 9, 'tattag': 14, 'attagc': 8, 'ttagcg': 11, 'tagcga': 12, 'agcgac': 11, 'gcgact': 17, 'cgactc': 15, 'gagggt': 17, 'agggta': 17, 'ggtatc': 12, 'gtatcc': 13, 'tatcct': 14, 'atcctc': 16, 'tcctcc': 14, 'cctcct': 13, 'ctcctt': 18, 'tccttt': 16, 'cctttt': 16, 'cttttg': 13, 'ttttgg': 14, 'tttgga': 15, 'ttggac': 14, 'ggacca': 12, 'gaccag': 7, 'accagt': 11, 'ccagtg': 17, 'cagtgt': 17, 'agtgtc': 10, 'gtgtcc': 10, 'tgtccc': 11, 'gtcccg': 12, 'ccgctc': 9, 'cgctcg': 13, 'gctcgt': 13, 'ctcgtt': 17, 'tcgttc': 17, 'cgttcc': 14, 'ttccca': 11, 'tcccaa': 19, 'cccaat': 13, 'caatat': 10, 'aatatg': 20, 'atatgg': 18, 'tatggg': 10, 'atgggc': 17, 'tgggca': 14, 'gggcac': 17, 'ggcact': 18, 'gcactg': 18, 'actgtt': 18, 'ctgtta': 17, 'tgttat': 13, 'gttatc': 15, 'ttatcg': 17, 'tatcgc': 13, 'atcgcg': 17, 'tcgcgt': 16, 'cgcgtc': 9, 'gcgtct': 12, 'cgtcta': 8, 'gtctat': 10, 'tctata': 13, 'ctataa': 19, 'tataaa': 9, 'ataaaa': 9, 'taaaag': 13, 'aaaaga': 16, 'aaagac': 17, 'aagacg': 11, 'agacgc': 9, 'gacgcg': 13, 'cgcggt': 9, 'gcggtg': 8, 'cggtgg': 9, 'ggatgc': 16, 'gatgcg': 18, 'atgcga': 17, 'tgcgat': 15, 'gcgatt': 20, 'cgattg': 12, 'gattgt': 15, 'attgtg': 17, 'ttgtgt': 15, 'tgtgta': 21, 'gtgtac': 21, 'tgtacg': 19, 'gtacgc': 11, 'tacgcc': 20, 'acgcct': 14, 'cgcctc': 14, 'gcctca': 16, 'cctcat': 14, 'ctcatt': 18, 'tcatta': 17, 'cattat': 17, 'attatt': 12, 'ttattt': 12, 'tatttt': 11, 'attttc': 14, 'ttttcg': 10, 'tcgtaa': 19, 'cgtaat': 14, 'gtaatg': 19, 'taatgc': 20, 'aatgcc': 16, 'atgcct': 17, 'tgcctc': 12, 'gcctcg': 16, 'cctcgg': 15, 'ctcggt': 12, 'tcggta': 10, 'cggtac': 14, 'gtacca': 14, 'taccag': 14, 'accagc': 15, 'ccagcc': 14, 'cagccc': 15, 'agccct': 16, 'gccctc': 19, 'ccctcc': 19, 'cctcca': 11, 'ctccag': 12, 'tccagt': 16, 'tgtcct': 6, 'gtcctg': 15, 'tcctgc': 13, 'cctgct': 12, 'ctgcta': 15, 'tgctac': 12, 'gctacg': 14, 'ctacgg': 13, 'tacgga': 17, 'acggaa': 10, 'cggaaa': 23, 'ggaaag': 18, 'gaaagg': 16, 'aaggtg': 11, 'aggtgc': 16, 'ggtgcc': 14, 'gtgcca': 9, 'tgccac': 12, 'gccact': 17, 'ccacta': 7, 'cactaa': 14, 'actaaa': 10, 'ctaaaa': 17, 'aagact': 12, 'agactc': 17, 'gactca': 20, 'actcag': 14, 'ctcaga': 13, 'tcagac': 12, 'cagacg': 18, 'agacgg': 15, 'gacgga': 14, 'acggac': 20, 'cggacc': 20, 'ggaccc': 14, 'gaccca': 18, 'acccat': 14, 'ccatta': 8, 'cattac': 14, 'attacc': 11, 'ttacca': 16, 'taccaa': 18, 'accaat': 10, 'caatag': 12, 'atagct': 12, 'tagctt': 13, 'agctta': 15, 'gcttag': 17, 'cttagc': 16, 'agcgaa': 15, 'gcgaat': 15, 'cgaatc': 15, 'gaatca': 15, 'aatcac': 13, 'atcacc': 9, 'caccaa': 13, 'accaac': 13, 'ccaact': 10, 'caactt': 11, 'aacttc': 12, 'acttcg': 14, 'cttcgt': 12, 'ttcgtg': 10, 'tcgtgt': 11, 'cgtgtt': 12, 'gtgtta': 14, 'tgttaa': 15, 'gttaac': 21, 'ttaacg': 16, 'taacgc': 18, 'aacgcg': 17, 'gcggga': 18, 'cgggaa': 20, 'gggaag': 15, 'ggaaga': 13, 'gaagag': 21, 'aagagc': 16, 'agagca': 15, 'gagcag': 24, 'agtgta': 18, 'gtgtat': 14, 'tgtatt': 10, 'gtatta': 11, 'tattac': 12, 'attaca': 14, 'ttacac': 13, 'tacacg': 7, 'acacga': 12, 'cacgag': 15, 'acgaga': 14, 'cgagat': 14, 'gagata': 17, 'gatagg': 7, 'atagga': 16, 'taggac': 17, 'aggact': 11, 'ggactc': 15, 'gactct': 12, 'actctt': 12, 'ctcttg': 13, 'tcttga': 14, 'cttgaa': 12, 'gaatgc': 18, 'tgccta': 13, 'gcctat': 9, 'cctatt': 13, 'ctattc': 12, 'tattca': 16, 'attcag': 9, 'ttcagg': 14, 'tcaggt': 19, 'caggtg': 19, 'aggtgt': 12, 'gtgtcg': 12, 'tcggat': 15, 'cggata': 18, 'taagag': 13, 'aagagt': 16, 'ctgttc': 20, 'tgttca': 15, 'gttcag': 22, 'ttcagc': 16, 'tcagcg': 12, 'cagcgg': 19, 'agcggg': 26, 'gggtgc': 12, 'ggtgct': 15, 'gtgctg': 19, 'tgctgg': 16, 'gctggg': 12, 'ctgggc': 12, 'tgggct': 15, 'gggctt': 15, 'ggcttg': 14, 'gcttga': 16, 'cttgat': 10, 'ttgatc': 16, 'tgatct': 16, 'gatcta': 16, 'atctaa': 18, 'tctaac': 8, 'ctaaca': 13, 'taacag': 16, 'aacagc': 13, 'acagca': 14, 'agcaca': 13, 'gcacaa': 13, 'cacaac': 17, 'acaact': 14, 'caactc': 17, 'aactct': 6, 'ctctta': 12, 'tcttag': 15, 'cttaga': 9, 'ttagat': 14, 'tagatg': 11, 'agatgg': 24, 'gatggc': 15, 'atggcg': 13, 'tggcgt': 12, 'ggcgtc': 10, 'gcgtca': 11, 'cgtcac': 15, 'gtcacg': 11, 'cacgcc': 8, 'gcctct': 15, 'cctctg': 14, 'ctctgc': 13, 'tctgcc': 17, 'ctgcct': 9, 'gcctaa': 15, 'cctaat': 15, 'ctaatg': 17, 'taatgg': 15, 'aatggc': 14, 'atggct': 24, 'tggcta': 22, 'gctagg': 17, 'taggaa': 18, 'aggaaa': 17, 'gaaagt': 16, 'aaagtc': 18, 'aagtct': 13, 'agtctt': 18, 'gtcttg': 15, 'tcttgg': 19, 'cttggt': 12, 'ttggta': 10, 'ggtact': 13, 'gtacta': 8, 'tactat': 15, 'actatc': 8, 'ctatcc': 11, 'tatccg': 12, 'atccga': 13, 'tccgat': 11, 'ccgatg': 10, 'cgatga': 16, 'gatgaa': 15, 'atgaag': 12, 'tgaagg': 12, 'gaaggt': 10, 'aggtga': 8, 'ggtgat': 15, 'gtgatt': 19, 'tgattc': 18, 'gattct': 16, 'attctg': 17, 'ttctgg': 13, 'tctggt': 17, 'ctggtt': 21, 'ggttca': 21, 'tcagca': 12, 'cagcat': 11, 'agcatc': 17, 'gcatct': 19, 'catctt': 16, 'atcttg': 22, 'cttgag': 14, 'ttgagg': 19, 'tgagga': 17, 'gaggag': 13, 'aggagc': 20, 'ggagcg': 15, 'gagcgt': 10, 'agcgtc': 8, 'cgtctg': 15, 'gtctga': 19, 'tctgaa': 24, 'ctgaaa': 14, 'tgaaaa': 13, 'gaaaag': 16, 'agacta': 14, 'gactag': 11, 'actaga': 13, 'ctagat': 20, 'tagatc': 17, 'agatct': 16, 'gatctg': 23, 'atctgg': 16, 'tctgga': 21, 'ctggaa': 20, 'tggaag': 12, 'ggaagg': 10, 'gaaggg': 8, 'aaggga': 9, 'agggaa': 16, 'ggaagc': 17, 'gaagca': 14, 'aagcat': 19, 'gcatcc': 19, 'catccg': 15, 'atccgg': 16, 'tccgga': 17, 'ccggaa': 15, 'cggaac': 13, 'ggaacc': 14, 'gaaccg': 21, 'aaccga': 17, 'accgac': 14, 'ccgacg': 15, 'cgacgt': 16, 'gacgtc': 23, 'acgtcc': 10, 'cgtcct': 8, 'gtccta': 9, 'tcctac': 14, 'tactcg': 13, 'actcgt': 20, 'ctcgta': 11, 'tcgtac': 12, 'cgtacc': 15, 'accaag': 13, 'ccaagt': 18, 'caagtt': 15, 'aagttg': 12, 'agttgc': 18, 'gttgcc': 15, 'ttgcct': 16, 'ctaacc': 20, 'taaccg': 16, 'aaccgc': 16, 'accgca': 13, 'ccgcac': 15, 'cgcaca': 16, 'gcacac': 15, 'cacacc': 21, 'acacct': 13, 'caccta': 14, 'cctaaa': 18, 'taaaac': 17, 'aaaact': 10, 'aaactg': 15, 'aactga': 13, 'actgag': 18, 'ctgagg': 20, 'tgaggt': 15, 'gaggtt': 19, 'aggttt': 18, 'ggttta': 15, 'gtttat': 15, 'tttatt': 15, 'ttattg': 15, 'tattgt': 15, 'tgtgtg': 13, 'gtgtga': 16, 'tgtgac': 11, 'gtgacg': 11, 'tgacgt': 12, 'cgtccg': 14, 'gtccga': 11, 'tccgac': 11, 'ccgacc': 14, 'cgacct': 18, 'gacctt': 18, 'accttt': 11, 'ccttta': 12, 'ctttat': 12, 'tttatc': 19, 'tatcgg': 15, 'atcggt': 9, 'tcggtt': 13, 'cggttg': 17, 'ggttgg': 12, 'gttggg': 8, 'ttgggt': 11, 'tgggta': 15, 'gggtac': 21, 'gtactc': 12, 'cgttct': 14, 'gttcta': 18, 'ttctat': 19, 'tataat': 15, 'ataata': 8, 'taatag': 13, 'aataga': 12, 'atagag': 13, 'tagaga': 18, 'agagag': 10, 'gagagc': 17, 'agagcg': 13, 'gagcga': 20, 'agcgag': 17, 'gcgagt': 19, 'cgagtc': 14, 'gagtct': 16, 'gtcttc': 14, 'tcttcg': 10, 'tcgtgg': 10, 'tggtaa': 12, 'ggtaac': 15, 'gtaaca': 18, 'taacaa': 22, 'aacaaa': 15, 'acaaat': 18, 'caaatc': 15, 'aaatct': 11, 'aatcta': 16, 'atctac': 13, 'tctacc': 13, 'ctacct': 15, 'tacctc': 16, 'acctct': 20, 'cctctc': 17, 'ctctcc': 15, 'tctccc': 14, 'tcccgg': 10, 'cccggc': 20, 'ccggca': 18, 'cggcat': 15, 'ggcatc': 20, 'tccgaa': 14, 'ccgaac': 16, 'cgaacc': 16, 'accgaa': 16, 'gaaccc': 11, 'aaccct': 5, 'accctg': 15, 'ccctga': 11, 'cctgag': 19, 'ctgagc': 17, 'tgagct': 22, 'gagcta': 15, 'agctac': 18, 'gctact': 18, 'ctactg': 13, 'tactgg': 11, 'actggt': 14, 'ggttcg': 19, 'gttcga': 19, 'ttcgag': 12, 'tcgagc': 15, 'cgagca': 19, 'gagcac': 11, 'cactgc': 18, 'actgcc': 13, 'ctgccc': 14, 'tgcccc': 15, 'gccccg': 16, 'ccccgg': 14, 'ccggcg': 8, 'cggcgc': 14, 'ggcgct': 16, 'gcgctc': 13, 'cgctca': 12, 'gctcat': 15, 'cattaa': 13, 'attaat': 14, 'ttaata': 17, 'atagaa': 8, 'tagaaa': 13, 'agaaat': 12, 'gaaatt': 14, 'aaattt': 13, 'aatttc': 11, 'tttcag': 13, 'ttcagt': 15, 'tcagtg': 11, 'cagtgc': 11, 'gtgcag': 16, 'tgcagg': 15, 'gcagga': 15, 'caggaa': 17, 'ggaaaa': 18, 'cctgca': 14, 'ctgcat': 11, 'tgcatt': 12, 'gcattc': 14, 'cattcg': 10, 'attcgc': 16, 'ttcgcc': 16, 'tcgcca': 6, 'aaatac': 9, 'aatacc': 11, 'ataccc': 13, 'taccca': 18, 'acccac': 23, 'cccact': 12, 'ccactc': 15, 'cactcg': 19, 'tcgttg': 12, 'cgttga': 13, 'gttgat': 21, 'ttgatg': 18, 'tgatgt': 6, 'gatgtg': 14, 'atgtgc': 15, 'tgtgca': 12, 'caaaga': 18, 'aaagaa': 13, 'aagaag': 12, 'agaagc': 8, 'gaagct': 20, 'aagcta': 19, 'agctag': 21, 'agcagg': 15, 'gcaggt': 11, 'caggtt': 18, 'aggttc': 25, 'gttcat': 13, 'ttcata': 11, 'tcataa': 12, 'cataag': 15, 'ataagg': 13, 'taaggt': 11, 'aaggtt': 14, 'gtttac': 10, 'ttacgg': 11, 'acggga': 11, 'ggacag': 7, 'gacagt': 10, 'acagtt': 11, 'cagtta': 8, 'agttat': 14, 'ttatcc': 17, 'atccgt': 18, 'tccgtt': 15, 'ccgttg': 17, 'cgttgc': 16, 'ttgccg': 12, 'tgccga': 14, 'gccgag': 10, 'ccgaga': 17, 'cgagac': 15, 'gagacg': 15, 'agacgt': 17, 'gtcctt': 11, 'tccttc': 16, 'ccttcg': 12, 'ttcgtt': 17, 'gttgca': 17, 'ttgcat': 20, 'gcattg': 15, 'ttgtct': 14, 'tgtctg': 17, 'aaaagt': 9, 'aagtcg': 11, 'cacaat': 10, 'acaatc': 13, 'caatca': 9, 'aatcag': 15, 'atcagc': 9, 'cagcgc': 22, 'agcgcg': 17, 'gcgcga': 12, 'cgcgaa': 12, 'gcgaac': 9, 'cgaaca': 17, 'catact': 10, 'atactc': 11, 'actcga': 14, 'ctcgaa': 11, 'tcgaat': 13, 'cgaatg': 14, 'aatgta': 13, 'atgtaa': 13, 'tgtaaa': 10, 'gtaaac': 9, 'taaacc': 12, 'aaacct': 17, 'aacctg': 17, 'ctgaga': 18, 'tgagac': 13, 'gagaca': 12, 'agacac': 13, 'gacacc': 12, 'acaccc': 14, 'caccca': 16, 'cccacg': 21, 'ccacgg': 12, 'cacggt': 16, 'acggtc': 13, 'cggtcc': 6, 'ggtcct': 17, 'tcctag': 15, 'cctagc': 15, 'ctagcc': 10, 'agccgg': 21, 'gccgga': 21, 'ccggac': 18, 'gacccg': 6, 'acccga': 9, 'cccgaa': 14, 'ccgaaa': 13, 'cgaaag': 11, 'gaaagc': 16, 'aaagct': 14, 'gaaaac': 10, 'aaaacg': 9, 'aaacgt': 12, 'aacgtg': 16, 'acgtga': 18, 'cgtgat': 21, 'gtgatc': 16, 'atctgt': 17, 'tctgtt': 16, 'gttatt': 10, 'tattgc': 16, 'attgcg': 16, 'ttgcgc': 18, 'tgcgca': 16, 'gcgcaa': 20, 'cgcaaa': 12, 'gcaaaa': 12, 'caaaag': 9, 'aaaagg': 10, 'aggtgg': 14, 'gtggag': 12, 'tggaga': 15, 'ggagac': 14, 'gagact': 12, 'gactcg': 15, 'actcgg': 10, 'ctcggc': 11, 'tcggcg': 16, 'cggcga': 12, 'ggcgac': 16, 'ctctaa': 15, 'tctaat': 13, 'ctaatc': 13, 'taatca': 15, 'aatcaa': 15, 'atcaag': 19, 'tcaagc': 14, 'caagca': 10, 'aagcag': 13, 'agcagc': 13, 'gcagct': 11, 'cagctc': 13, 'agctcc': 22, 'gctcct': 19, 'tccttg': 10, 'ccttgt': 14, 'cttgtc': 17, 'tgtcga': 18, 'gtcgag': 19, 'tcgagg': 12, 'cgaggt': 11, 'gttcac': 18, 'ttcacg': 23, 'tcacga': 17, 'acgagc': 18, 'cgagcg': 15, 'gagcgc': 14, 'agcgca': 16, 'gcgcat': 17, 'cgcatc': 17, 'gcatca': 17, 'catcaa': 12, 'atcaat': 12, 'tcaatg': 14, 'caatgt': 16, 'aatgtt': 22, 'atgttg': 14, 'tgttgt': 19, 'gttgta': 15, 'ttgtac': 19, 'tacgcg': 10, 'gcgggc': 15, 'gggctc': 9, 'ggctcc': 18, 'gctccg': 18, 'tccgct': 10, 'cgctat': 11, 'gctatg': 14, 'tatgta': 10, 'atgtac': 9, 'gtacgt': 14, 'tacgta': 16, 'acgtag': 16, 'cgtagg': 14, 'gtaggc': 18, 'taggcg': 16, 'aggcgc': 13, 'ggcgcc': 16, 'gcgccc': 15, 'cgccca': 18, 'gcccaa': 12, 'cccaaa': 11, 'ccaaag': 16, 'caaagt': 11, 'agtcgc': 10, 'gtcgcg': 18, 'tcgcgc': 13, 'cgcgct': 12, 'gcgcta': 14, 'cgctaa': 13, 'gctaac': 10, 'taaccc': 14, 'aaccca': 12, 'ccacgt': 12, 'cacgta': 13, 'acgtat': 16, 'cgtatt': 22, 'gtattt': 15, 'tattta': 15, 'tttaca': 13, 'tacact': 18, 'acactc': 13, 'tcggtg': 15, 'ggtgac': 16, 'cgggca': 12, 'gggcaa': 8, 'ggcaat': 15, 'gcaatc': 15, 'caatct': 13, 'aatctc': 6, 'atctca': 10, 'tctcat': 14, 'ttaatc': 12, 'taatcc': 15, 'aatccc': 14, 'atcccg': 15, 'tcccgt': 16, 'cccgtt': 17, 'ccgttt': 8, 'cgtttc': 14, 'gtttct': 14, 'tttctg': 16, 'tctggg': 7, 'ctgggt': 9, 'gggtag': 11, 'ggtagg': 18, 'gtaggt': 17, 'taggtt': 20, 'aggttg': 11, 'gttgga': 12, 'ttggat': 16, 'tggata': 12, 'ggatac': 5, 'gatacg': 17, 'atacga': 12, 'tacgac': 12, 'cgacca': 13, 'gaccat': 19, 'accata': 16, 'ccataa': 20, 'cataat': 16, 'ataatc': 15, 'atccca': 13, 'cccaac': 17, 'ccaacg': 15, 'caacgt': 13, 'cgtcga': 18, 'cgagga': 12, 'gaggat': 12, 'aggatc': 17, 'ggatca': 17, 'gatcaa': 15, 'tcaagg': 20, 'caaggt': 16, 'ggtcga': 8, 'gcgaag': 14, 'cgaagg': 12, 'gaagga': 17, 'aaggac': 14, 'aggaca': 12, 'gacaca': 11, 'acacag': 15, 'cacaga': 17, 'acagag': 15, 'cagaga': 8, 'agagat': 26, 'gagatg': 20, 'agatgt': 15, 'gatgtc': 9, 'tgtcaa': 13, 'gtcaac': 14, 'tcaact': 18, 'caactg': 11, 'aactgt': 12, 'ctgtca': 11, 'gtcatg': 20, 'tcatgc': 17, 'catgcg': 9, 'tgcgag': 13, 'gcgagc': 11, 'gagcat': 10, 'gcatcg': 20, 'catcga': 19, 'atcgat': 14, 'tcgatc': 14, 'cgatct': 15, 'gatctc': 14, 'atctct': 11, 'tctcta': 17, 'ctctac': 16, 'tctaca': 15, 'ctacaa': 8, 'tacaaa': 7, 'acaaaa': 9, 'caaaac': 12, 'aaaacc': 15, 'aaccta': 10, 'cctacg': 13, 'ctacga': 9, 'gaccgg': 11, 'accgga': 16, 'gaaaga': 10, 'aaagat': 13, 'aagatg': 14, 'tggaca': 6, 'acactt': 13, 'cacttg': 16, 'acttgg': 14, 'cttgga': 14, 'tggatt': 14, 'ggattc': 19, 'gattcc': 18, 'attccg': 18, 'ttccgg': 13, 'tccggt': 12, 'ccggtt': 26, 'cggttc': 15, 'ggttct': 19, 'ttctac': 14, 'ctaccg': 15, 'taccgt': 15, 'accgtg': 15, 'cgtgac': 12, 'gtgact': 11, 'tgactg': 11, 'gactgc': 9, 'actgct': 20, 'ctgctc': 15, 'tgctcc': 19, 'ctccgg': 14, 'tccggg': 15, 'ccggga': 9, 'cgggat': 12, 'gggatt': 15, 'ggattt': 14, 'gattta': 12, 'atttat': 14, 'tttata': 14, 'ttatac': 11, 'tatact': 13, 'atactt': 12, 'tactta': 14, 'acttaa': 12, 'cttaaa': 13, 'ttaaag': 15, 'aaaggg': 16, 'aagggt': 15, 'agggtt': 14, 'gggtta': 15, 'ggttaa': 16, 'gttaat': 22, 'atcagt': 10, 'tcagtt': 15, 'cagttg': 21, 'agttgt': 9, 'ttgtaa': 16, 'taaaca': 18, 'aaacac': 18, 'aacact': 12, 'tgctag': 16, 'ctacgt': 15, 'atttta': 18, 'ttttaa': 12, 'tttaac': 15, 'cgtcgc': 10, 'cgtctc': 19, 'ccggat': 21, 'cggatt': 19, 'ggatta': 13, 'gattaa': 25, 'attaag': 17, 'ttaagt': 18, 'taagtg': 18, 'aagtga': 12, 'agtgat': 16, 'gattgc': 13, 'attgca': 14, 'ttgcaa': 10, 'gcaaac': 20, 'caaact': 13, 'aaactt': 17, 'acttat': 9, 'cttata': 12, 'ttatag': 15, 'tatagg': 19, 'ataggg': 14, 'tagggg': 14, 'aggggt': 14, 'gggtcc': 17, 'cttttc': 10, 'gttcca': 12, 'ttccaa': 12, 'tccaaa': 15, 'ccaaac': 15, 'caaacc': 14, 'aaaccg': 18, 'ccgcct': 12, 'cgcctt': 20, 'gcctta': 12, 'ccttag': 15, 'cttagg': 19, 'ttaggt': 12, 'gttctt': 15, 'ttctta': 10, 'tcttaa': 11, 'cttaat': 11, 'aatagg': 16, 'ataggc': 15, 'aggcga': 13, 'ggcgat': 12, 'gcgatc': 14, 'cgatcc': 16, 'gatcct': 14, 'atcctg': 15, 'tcctgt': 14, 'cctgtc': 13, 'catttc': 13, 'atttcg': 17, 'tttcgc': 16, 'ttcgca': 19, 'tcgcat': 20, 'cgcata': 10, 'gcatag': 13, 'catagc': 6, 'tagcct': 16, 'agcctg': 17, 'gcctga': 15, 'cctgac': 14, 'ctgacg': 12, 'tgacgc': 11, 'acgcgc': 16, 'cgcgca': 14, 'cgcatt': 20, 'gcatta': 16, 'attacg': 9, 'gattat': 16, 'attatg': 13, 'ttatga': 13, 'tatgaa': 13, 'atgaaa': 12, 'tgaaat': 8, 'gaaata': 12, 'atagcg': 14, 'tagcgc': 15, 'agcgct': 12, 'gcgctg': 11, 'cgctgt': 11, 'gctgtc': 12, 'ctgtct': 15, 'tgtctc': 11, 'gtctcg': 12, 'tctcgt': 14, 'gttgac': 7, 'ttgacg': 11, 'tgacgg': 15, 'gacggg': 17, 'acgggg': 17, 'cggggt': 13, 'gggtca': 16, 'ggtcat': 9, 'gtcatc': 10, 'tcatcg': 22, 'catcgg': 19, 'cggtaa': 11, 'aacttg': 16, 'cttggc': 17, 'ttggcg': 18, 'tggcga': 17, 'ggcgag': 10, 'agtctg': 14, 'gtctgc': 16, 'tctgct': 11, 'tgctcg': 11, 'gttctg': 15, 'ttctga': 26, 'tctgat': 11, 'ctgata': 23, 'tgatac': 20, 'gatacc': 12, 'ataccg': 13, 'taccgc': 10, 'accgcg': 12, 'ccgcgc': 15, 'cgcgcg': 15, 'gcgcgg': 11, 'cgcgga': 22, 'gcggaa': 18, 'cggaat': 18, 'ggaatg': 15, 'atgccg': 17, 'tgccgc': 12, 'gccgct': 14, 'cgctac': 20, 'tacgtc': 15, 'cgtccc': 9, 'gtccca': 10, 'tcccac': 10, 'cccaca': 8, 'ccacag': 9, 'cacagg': 9, 'acagga': 17, 'aggaat': 20, 'ggaatt': 21, 'gaattt': 14, 'aatttg': 11, 'atttgt': 6, 'tttgta': 10, 'ttgtag': 14, 'tgtagt': 14, 'gtagtg': 16, 'tagtgg': 10, 'agtggc': 21, 'gtggcg': 9, 'tggcgg': 13, 'ggcggg': 11, 'cgggtt': 22, 'gggttt': 11, 'gtttaa': 14, 'ttaact': 15, 'taacta': 15, 'aactaa': 15, 'actaac': 16, 'aaccgt': 13, 'accgtc': 12, 'ccgtcg': 12, 'gagcaa': 11, 'agcaat': 13, 'gcaata': 13, 'aatagt': 8, 'atagtg': 15, 'tagtgt': 12, 'agtgtt': 11, 'gtgttg': 16, 'gttgtt': 8, 'ttgttc': 14, 'tgttct': 12, 'ttcttg': 11, 'tcttgc': 19, 'cttgca': 11, 'ttgcac': 15, 'tgcacc': 9, 'gcaccg': 17, 'caccgc': 18, 'cgccta': 16, 'gcctag': 9, 'cctagg': 13, 'aggaag': 9, 'aagctg': 18, 'agctga': 14, 'gctgac': 9, 'ctgact': 8, 'tgactt': 12, 'gacttt': 14, 'actttt': 12, 'ctttta': 16, 'tttaaa': 13, 'ttaaaa': 10, 'taaaat': 10, 'aaaatc': 17, 'gttcgc': 15, 'ttcgct': 10, 'tcgctt': 12, 'cgcttt': 19, 'gcttta': 9, 'ctttac': 12, 'tttact': 17, 'ttacta': 13, 'actata': 13, 'ctatag': 19, 'tatagc': 14, 'tagctc': 13, 'agctct': 14, 'gctcta': 13, 'ctacca': 11, 'ccaatt': 10, 'caattg': 8, 'aattga': 18, 'attgaa': 22, 'ttgaac': 10, 'gaacgg': 15, 'aacggg': 13, 'acgggc': 14, 'cgggcc': 16, 'gggccc': 13, 'ggccca': 9, 'ccaacc': 12, 'caacct': 11, 'acctgt': 18, 'cctgtg': 17, 'ctgtgc': 20, 'tgtgcg': 18, 'gtgcga': 18, 'tgcgac': 20, 'gcgacc': 13, 'cgaccc': 16, 'acccgg': 14, 'cccgga': 12, 'ggaatc': 19, 'gaatcg': 17, 'aatcga': 12, 'atcgac': 13, 'tcgacg': 15, 'cgacga': 15, 'gacgac': 12, 'acgact': 8, 'actcat': 18, 'ctcata': 17, 'tcatac': 12, 'cataca': 13, 'atacac': 13, 'ctgctg': 14, 'gctggc': 12, 'ctggcg': 11, 'gacctg': 17, 'ctgtgt': 10, 'tgtgtc': 8, 'gtgtct': 14, 'gtctca': 16, 'tctcaa': 13, 'ctcaag': 13, 'tcaaga': 14, 'caagaa': 11, 'agaaga': 9, 'gaagat': 12, 'aagatt': 10, 'agattc': 13, 'gattcg': 18, 'ttcgcg': 15, 'cgcgta': 9, 'gcgtat': 14, 'cgtatg': 12, 'gtatgt': 11, 'tatgtt': 13, 'atgtta': 13, 'tgttac': 18, 'gttacg': 12, 'ttacgc': 8, 'gcctcc': 8, 'cctccg': 12, 'ccgggc': 9, 'aatatt': 14, 'atattc': 17, 'tattcg': 14, 'attcgt': 22, 'tcgttt': 6, 'cgttta': 12, 'gtttag': 13, 'tttaga': 13, 'ttagaa': 12, 'tagaac': 6, 'gaacac': 14, 'aacacg': 16, 'cacgaa': 19, 'acgaat': 19, 'gaatcc': 12, 'aatccg': 10, 'ggaaac': 18, 'gaaaca': 13, 'aaacat': 16, 'acatag': 13, 'gcgcgc': 13, 'gcgcgt': 11, 'cgtata': 15, 'gtatag': 18, 'agccgc': 9, 'gccgcc': 11, 'ccgccg': 15, 'cgccga': 14, 'cgagag': 17, 'gagagg': 6, 'agaggt': 16, 'gaggtc': 11, 'aggtct': 14, 'ggtctg': 14, 'tctgac': 12, 'ctgaca': 14, 'tgacag': 22, 'cagttt': 14, 'agtttt': 12, 'gtttta': 8, 'ttttac': 12, 'tttacc': 11, 'ttacct': 17, 'cctaag': 10, 'ctaagg': 13, 'ggtttt': 9, 'ttttag': 8, 'agaaag': 15, 'agctaa': 15, 'gctaat': 15, 'ccgatt': 14, 'cgattt': 12, 'gatttt': 8, 'ttacgt': 14, 'tacgtg': 15, 'cgtgtg': 10, 'gtgtgg': 8, 'tgtggg': 11, 'gtggga': 21, 'tgggat': 13, 'gggatg': 16, 'ggatgt': 18, 'atgtgg': 9, 'tgtggt': 7, 'tggtga': 19, 'gtgaag': 14, 'tgaaga': 18, 'aagagg': 10, 'agagga': 6, 'aggacc': 11, 'ggaccg': 16, 'gaccgt': 17, 'ccgtcc': 14, 'cgtcca': 14, 'gtccag': 15, 'ccagta': 11, 'cagtac': 10, 'agtaca': 7, 'gtacat': 19, 'tacatg': 15, 'acatgc': 10, 'catgca': 15, 'atgcag': 16, 'tgcaga': 21, 'gcagaa': 15, 'cagaat': 9, 'agaata': 10, 'gaatat': 16, 'atattg': 18, 'attgcc': 20, 'ttgccc': 15, 'tgcccg': 13, 'gcccgt': 18, 'cccgtg': 14, 'tgattt': 12, 'gatttg': 13, 'atttgg': 19, 'tttggg': 14, 'ttgggc': 12, 'tgggcg': 9, 'gggcga': 7, 'gagtgg': 28, 'gtggca': 13, 'tggcac': 17, 'gcactc': 13, 'ctcgag': 11, 'gcgtcc': 9, 'cacgga': 19, 'acggat': 18, 'ggatat': 19, 'gatatc': 21, 'atatca': 16, 'tatcaa': 18, 'tcaata': 14, 'tagcca': 15, 'agccaa': 16, 'gccaag': 20, 'ccaaga': 11, 'caagac': 7, 'cgtggg': 12, 'tgggac': 15, 'gggacc': 8, 'cctgtt': 14, 'ctgttt': 14, 'tgttta': 11, 'taactc': 12, 'ctcagc': 11, 'tcagcc': 17, 'cagcct': 12, 'agcctt': 11, 'gccttt': 16, 'ttacaa': 12, 'tacaac': 9, 'acaacg': 16, 'caacga': 15, 'aacgaa': 8, 'cgaatt': 21, 'gaattc': 20, 'aattca': 15, 'ttcaca': 12, 'tcacag': 9, 'acaggt': 20, 'caggtc': 12, 'ggtcgc': 11, 'cgcgat': 18, 'cgatta': 19, 'attaac': 12, 'aactag': 12, 'actagg': 9, 'ctaggg': 11, 'agggga': 15, 'ggggaa': 11, 'gggaac': 13, 'aaccgg': 22, 'accggc': 15, 'ccggct': 18, 'cggctc': 13, 'gctccc': 20, 'ctccca': 23, 'tcccag': 14, 'cccagg': 12, 'ccaggg': 11, 'cagggc': 13, 'agggct': 12, 'gggctg': 15, 'ggctgc': 11, 'gctgct': 13, 'tgctgc': 11, 'gctgcc': 11, 'ctgcca': 16, 'gccacg': 14, 'cgagcc': 9, 'gagcct': 16, 'agcctc': 12, 'cctctt': 19, 'tctttt': 13, 'ttttat': 16, 'attgta': 16, 'gtacga': 13, 'cgagta': 11, 'gagtat': 14, 'agtata': 14, 'gtataa': 12, 'tataac': 20, 'ataacg': 15, 'taacga': 11, 'aacgag': 13, 'gagacc': 14, 'agacct': 14, 'acctta': 19, 'gcgcag': 7, 'cgcagg': 11, 'gcaggc': 15, 'caggca': 11, 'aggcac': 21, 'ggcacg': 19, 'gcacgt': 7, 'cacgtt': 12, 'acgtta': 10, 'cgttaa': 22, 'aatcct': 14, 'atccta': 15, 'tcctat': 18, 'ctattg': 10, 'tattga': 22, 'attgac': 13, 'ttgacc': 13, 'tgaccg': 16, 'accgta': 21, 'ccgtat': 23, 'cgtatc': 21, 'tatcca': 13, 'atccat': 15, 'tccatc': 11, 'ccatcc': 5, 'catcct': 16, 'ctccat': 12, 'tccatg': 22, 'ccatgt': 16, 'catgtt': 9, 'atgttt': 18, 'tgtttc': 10, 'gtttca': 13, 'tcactt': 21, 'acttgt': 22, 'cttgtt': 11, 'ttgtta': 18, 'gttata': 13, 'tatacg': 9, 'atacgc': 17, 'cgccgc': 17, 'gccgca': 12, 'cgcacc': 15, 'caccga': 18, 'accgat': 16, 'cgattc': 16, 'gattca': 13, 'ttcaga': 11, 'agacga': 14, 'gacgag': 13, 'cgagaa': 9, 'gagaag': 7, 'agcatg': 13, 'gcatgt': 7, 'catgtc': 13, 'atgtcg': 14, 'tgtcgt': 10, 'gtcgtg': 7, 'tggtgg': 16, 'gtggaa': 16, 'tggaaa': 17, 'aaagga': 15, 'aaggag': 25, 'aggaga': 19, 'actagt': 8, 'ctagtg': 11, 'tagtga': 12, 'gtgata': 19, 'tgatat': 18, 'atatcg': 8, 'atcgga': 25, 'attcgg': 10, 'ttcggc': 12, 'tcggct': 14, 'cggcta': 17, 'ggctac': 11, 'ctactt': 15, 'ttagcc': 13, 'agccga': 9, 'gccgat': 16, 'ccgata': 10, 'cgataa': 9, 'gataac': 15, 'ataact': 20, 'taactg': 16, 'aactgg': 13, 'actggc': 11, 'ctggcc': 12, 'tggccc': 15, 'ggcccc': 15, 'gccccc': 17, 'ccccca': 15, 'ccccac': 8, 'ccactg': 19, 'ctgttg': 17, 'gttgtc': 19, 'ttgtcc': 14, 'gtccct': 10, 'tccctg': 8, 'ccctgc': 14, 'ctgctt': 12, 'tgcttg': 14, 'gcttgt': 17, 'cttgta': 19, 'ttgtat': 11, 'tgtatc': 17, 'gtatct': 20, 'tatctg': 19, 'atctgc': 16, 'cctaga': 12, 'ctagag': 12, 'tagagt': 12, 'agagtc': 7, 'agtctc': 10, 'ctcaaa': 11, 'tcaaat': 12, 'aaatcg': 12, 'aatcgg': 15, 'cggagc': 22, 'gcattt': 10, 'tacgca': 9, 'acgcac': 12, 'cgcact': 10, 'tcgaac': 15, 'gaacag': 12, 'aacaga': 14, 'acagac': 12, 'cagacc': 9, 'agacca': 9, 'gaccac': 14, 'accacc': 13, 'ccacca': 14, 'agctgt': 14, 'gctgtt': 19, 'tgttga': 11, 'gttgag': 22, 'ttgaga': 13, 'gagaat': 15, 'agaatg': 22, 'aatgtc': 16, 'tgtcac': 8, 'gtcact': 15, 'cactca': 17, 'ctcatc': 12, 'tcatct': 14, 'atcttt': 16, 'tcttta': 14, 'ctttaa': 12, 'ttaaac': 11, 'taaacg': 3, 'aacgtt': 21, 'acgttc': 18, 'cgttcg': 12, 'gttcgt': 16, 'ttcgaa': 15, 'gaacaa': 10, 'aacaag': 9, 'acaagc': 11, 'caagcg': 19, 'aagcgt': 14, 'agcgta': 11, 'gcgtaa': 11, 'gtaatt': 11, 'taattt': 20, 'aatttt': 18, 'tttagg': 14, 'ttaggc': 18, 'gcgaga': 12, 'gagagt': 13, 'agagtg': 13, 'gagtga': 10, 'agtgaa': 13, 'gtgaat': 11, 'tgaatc': 12, 'atcctt': 12, 'ccttgg': 14, 'cttggg': 14, 'ttgggg': 9, 'tgggga': 10, 'ggggac': 12, 'gggact': 13, 'ggacta': 14, 'gactaa': 8, 'actaag': 7, 'ctaaga': 14, 'aagaat': 16, 'agaatc': 10, 'tcagtc': 15, 'cagtcc': 13, 'agtcct': 12, 'cctgcg': 12, 'ctgcgg': 8, 'tgcggg': 14, 'aacgct': 16, 'acgctc': 8, 'cgctcc': 13, 'cccaag': 13, 'ccaagc': 13, 'agcatt': 12, 'ttgtca': 18, 'aacttt': 13, 'tacggt': 12, 'acggta': 8, 'cggtat': 12, 'ggtatg': 10, 'gtatga': 13, 'tatgac': 14, 'atgact': 12, 'tgacta': 10, 'gactac': 15, 'actacc': 18, 'acctgg': 14, 'cctggg': 15, 'gggcat': 12, 'ggcatg': 10, 'gcatgg': 17, 'catggc': 16, 'ggcgtg': 16, 'gcgtga': 15, 'cgtgaa': 13, 'tgaagc': 18, 'gaagcg': 10, 'aagcga': 17, 'agcgat': 16, 'gcgatg': 16, 'gatgac': 11, 'atgaca': 14, 'tgacac': 9, 'acacac': 16, 'acaccg': 18, 'accgag': 18, 'ccgagg': 15, 'aggtta': 18, 'ggttat': 13, 'ttataa': 14, 'acaaag': 12, 'caaagg': 14, 'ggtgca': 16, 'aaagtt': 16, 'aagttt': 12, 'agttta': 14, 'tttagt': 10, 'ttagtg': 10, 'agtgtg': 11, 'gtgtgt': 9, 'gtgtgc': 13, 'tgtgcc': 11, 'gtgccg': 11, 'tgccgg': 14, 'cggtgt': 15, 'ggtgtt': 15, 'ttgatt': 9, 'tcgtgc': 15, 'cgtgct': 14, 'gtgcta': 17, 'tgctat': 18, 'cacgct': 11, 'acgcta': 16, 'gctaag': 12, 'ctaagc': 10, 'taagca': 11, 'aagcaa': 7, 'agcaag': 14, 'gcaagg': 18, 'aaggta': 16, 'aggtaa': 17, 'ggtaag': 16, 'gtaaga': 15, 'taagat': 9, 'aagata': 9, 'atcgct': 13, 'cgcttc': 15, 'gcttcc': 15, 'cttccc': 9, 'ttcccg': 15, 'ccggcc': 19, 'cggcca': 14, 'ggccac': 11, 'ccacgc': 11, 'cacgca': 15, 'acgcat': 11, 'catcat': 12, 'atcatg': 12, 'tcatga': 7, 'catgag': 12, 'atgagg': 12, 'aggagt': 14, 'ggagtc': 10, 'gagtca': 13, 'agtcat': 11, 'catctg': 8, 'cccgtc': 18, 'tccagc': 14, 'agcccg': 15, 'cccgta': 11, 'ccgtag': 12, 'cgtaga': 8, 'gtagac': 13, 'tagact': 12, 'agactg': 9, 'gactgt': 16, 'actgta': 10, 'ctgtat': 13, 'tgtatg': 15, 'tatgat': 15, 'atgata': 11, 'gatata': 20, 'atatag': 9, 'tatagt': 20, 'tagtgc': 18, 'tgcaag': 15, 'gcaagt': 17, 'caagta': 13, 'aagtat': 9, 'agtatc': 13, 'tatctc': 22, 'atctcc': 17, 'tctcct': 21, 'ctcctg': 19, 'tcctgg': 19, 'cctggt': 9, 'ctggtc': 9, 'tggtcc': 9, 'ccttca': 20, 'cttcaa': 16, 'ttcaac': 14, 'ctatgg': 15, 'tatggt': 16, 'atggtc': 14, 'tggtct': 18, 'gtctgt': 11, 'tctgta': 21, 'ctgtac': 17, 'tgtact': 12, 'gtactg': 11, 'tactgc': 17, 'gcctac': 12, 'ctggta': 12, 'tggtat': 16, 'ggtata': 14, 'gtatat': 9, 'tatcta': 10, 'atctag': 14, 'tctagc': 13, 'aactcg': 15, 'ctcgtc': 16, 'tcgtca': 14, 'cgtcag': 16, 'gtcaga': 13, 'tcagag': 9, 'cagagg': 21, 'agaggg': 9, 'agggtc': 16, 'ggtcaa': 12, 'gtcaaa': 8, 'tcaaaa': 10, 'caaaat': 13, 'aaaata': 14, 'ataacc': 18, 'acccag': 14, 'ccagcg': 25, 'agcgcc': 20, 'gcgccg': 17, 'ccggta': 13, 'ggtaca': 17, 'tacatc': 9, 'acatcg': 13, 'tgatcg': 13, 'gatcgc': 9, 'tcgcga': 17, 'cgatgg': 11, 'gatggg': 18, 'atgggg': 8, 'tggggg': 11, 'ggggga': 9, 'ggggat': 16, 'attcca': 9, 'tccaac': 11, 'ccaaca': 13, 'caacat': 14, 'acattc': 17, 'cattct': 17, 'tatggc': 20, 'atggcc': 12, 'tggcca': 9, 'ggccat': 12, 'gccatg': 8, 'tgtagc': 20, 'ccgtgt': 13, 'cgtgtc': 19, 'gtcggt': 18, 'ggtggc': 9, 'gtggct': 14, 'tggctt': 16, 'ggctta': 16, 'gcttat': 16, 'cttatc': 16, 'ttatca': 11, 'atcaac': 21, 'caacta': 15, 'aactac': 8, 'ctctgg': 13, 'ctggag': 12, 'tggagt': 10, 'ggagtt': 12, 'gagttc': 17, 'agttcc': 12, 'tcccga': 14, 'cccgat': 7, 'gataaa': 10, 'ataaat': 12, 'taaata': 16, 'tagcgg': 13, 'gtctct': 18, 'tctctg': 15, 'ctgggg': 14, 'tggggt': 13, 'ggggta': 12, 'gtacaa': 12, 'aaatcc': 18, 'aatcca': 17, 'ccatga': 12, 'catgaa': 10, 'tgaaac': 18, 'ttaatg': 13, 'aatgcg': 23, 'atgcgt': 10, 'tgcgta': 14, 'gcgtac': 9, 'cgtaca': 12, 'gtacac': 13, 'acacta': 16, 'acttac': 18, 'cttacc': 15, 'ttaccc': 8, 'tacccg': 11, 'cccggt': 10, 'tctagt': 15, 'ctagta': 13, 'tagtag': 11, 'agtagc': 12, 'ctgagt': 18, 'tgagtt': 17, 'gagttg': 9, 'tgtcgc': 15, 'gtcgct': 9, 'tcgctc': 13, 'gctcaa': 11, 'ctcaac': 16, 'actgga': 10, 'tggagg': 15, 'ggaggg': 12, 'gagggg': 15, 'aggggg': 13, 'gggggc': 18, 'ggggcg': 12, 'gggcgc': 13, 'gcgctt': 17, 'tcccat': 13, 'cccatg': 12, 'ccatgg': 11, 'catggg': 14, 'atgggt': 16, 'tgggtt': 11, 'gggttg': 22, 'ggttgc': 23, 'tgcata': 14, 'gcatac': 14, 'atacta': 10, 'tactac': 12, 'ctaccc': 16, 'ccagct': 20, 'agctca': 12, 'gctcac': 8, 'ctcact': 17, 'actcct': 13, 'ctccta': 18, 'cctatc': 9, 'ctatca': 10, 'tatcat': 15, 'atcatc': 16, 'cggagt': 12, 'ggagta': 7, 'agtatg': 10, 'tatcag': 10, 'cagtct': 11, 'agtcta': 11, 'gtctac': 12, 'tctacg': 13, 'acgtca': 21, 'gtcaca': 17, 'tcacaa': 14, 'cccggg': 14, 'catcac': 12, 'tcaccg': 19, 'accgct': 16, 'ccgctt': 15, 'cgctta': 11, 'ttagga': 14, 'attcat': 11, 'ttcatg': 10, 'tcatgg': 20, 'catggt': 18, 'atggta': 18, 'ggtaat': 14, 'gtaata': 17, 'taatac': 16, 'tacccc': 5, 'acccca': 11, 'ccccat': 9, 'ccatgc': 14, 'catgcc': 12, 'gccggc': 18, 'cggccg': 12, 'ggccga': 16, 'gccgaa': 13, 'ccgaat': 14, 'cgaata': 11, 'gaatac': 10, 'atacca': 10, 'caaatg': 12, 'aaatgt': 12, 'gtaagt': 10, 'aagtgt': 12, 'gtgtaa': 8, 'tgtaat': 15, 'taatat': 15, 'atattt': 12, 'tatttg': 11, 'atttga': 9, 'tttgat': 7, 'tgatgg': 13, 'ggcgta': 9, 'tatgag': 10, 'cagccg': 15, 'cggtta': 18, 'atagtc': 13, 'tagtcc': 11, 'agtccc': 11, 'ccaagg': 15, 'caaggc': 19, 'aaggcg': 13, 'tcatat': 12, 'catatt': 17, 'tattat': 9, 'attatc': 15, 'atcggg': 14, 'ggccct': 18, 'gccctg': 15, 'ccctgt': 16, 'ctgtgg': 15, 'tgtgga': 14, 'gctaga': 19, 'agatcc': 19, 'gatccg': 20, 'atccgc': 10, 'ccgctg': 7, 'cgctgg': 5, 'gctggt': 15, 'tggttt': 14, 'ggtttg': 14, 'gtttga': 13, 'tttgag': 18, 'ttgagt': 18, 'tgagtc': 20, 'agtcac': 13, 'cacaaa': 8, 'aaagcc': 9, 'aagcca': 15, 'agccag': 14, 'gccagc': 17, 'cagctg': 18, 'gctgta': 10, 'cgcgtt': 15, 'gcgttc': 4, 'cgttca': 14, 'tcatag': 9, 'cataga': 11, 'ggctga': 14, 'gctgat': 16, 'tgatag': 11, 'gatagt': 15, 'tagtca': 14, 'agtcag': 11, 'gtcagt': 16, 'tcagta': 7, 'cagtaa': 18, 'agtaag': 12, 'taagtt': 16, 'aagttc': 23, 'ttccag': 12, 'tccagg': 15, 'cagggt': 14, 'ggtcag': 14, 'gtcagc': 16, 'ccttac': 14, 'cttaca': 13, 'tacaat': 12, 'caatcc': 10, 'tccgta': 14, 'tgtcag': 16, 'tcagct': 11, 'gctcag': 9, 'gccgtc': 9, 'ccgtct': 10, 'gtctgg': 14, 'ctggac': 9, 'ggacat': 10, 'gacata': 15, 'tacaca': 17, 'cacacg': 16, 'acacgc': 16, 'acgcag': 18, 'cgcagc': 10, 'gcagcg': 12, 'agcgga': 16, 'tataag': 14, 'ataagc': 15, 'taagct': 21, 'aagctt': 16, 'agcttc': 16, 'cttccg': 9, 'ttccgc': 17, 'gctcga': 9, 'tcgagt': 15, 'gagtac': 12, 'agtact': 10, 'tactcc': 11, 'gggcca': 14, 'ggccag': 13, 'gctgaa': 10, 'tgaaag': 14, 'agaagg': 12, 'gaaggc': 11, 'aggcgg': 18, 'ggcgga': 13, 'gcggac': 13, 'ggaacg': 20, 'gaacgt': 23, 'acgtct': 15, 'acatgt': 18, 'tcagat': 18, 'cagatg': 19, 'gatggt': 18, 'taacac': 14, 'aacacc': 10, 'cacctt': 10, 'accttc': 12, 'ccttct': 18, 'cttctg': 18, 'ttctgt': 14, 'tgttcc': 13, 'gttccg': 13, 'tccggc': 10, 'cggcag': 5, 'ggcagg': 15, 'caggat': 17, 'aggatt': 15, 'gattac': 10, 'ttacat': 11, 'atgcgg': 13, 'tgcggt': 8, 'cggtgc': 14, 'gcagac': 14, 'cagaca': 12, 'agacat': 8, 'gacatt': 11, 'tataga': 8, 'tagagg': 13, 'aggtca': 12, 'ggtcac': 18, 'cacttc': 12, 'acttcc': 15, 'cttcct': 17, 'ttccta': 23, 'cctagt': 10, 'tagtac': 10, 'actacg': 9, 'cggaca': 13, 'gacagg': 14, 'caggac': 10, 'acgttg': 11, 'ttgagc': 19, 'tgagca': 11, 'catgga': 15, 'atggaa': 20, 'ggaagt': 4, 'gaagta': 6, 'aagtac': 6, 'agtacc': 10, 'taccac': 9, 'accaca': 16, 'ccacat': 11, 'cacatt': 19, 'acatta': 13, 'attact': 15, 'tactag': 11, 'actagc': 11, 'taaaga': 11, 'tcgtct': 16, 'cgtctt': 11, 'ctacac': 19, 'ctcgac': 11, 'cgacgc': 10, 'gacgcc': 8, 'acgccc': 17, 'cgcccg': 12, 'ccgttc': 15, 'agcggc': 8, 'gcggca': 14, 'catcta': 15, 'ctacag': 12, 'tacagc': 15, 'acagcc': 11, 'gccgtt': 10, 'ccgtta': 16, 'cgttat': 9, 'gttatg': 11, 'atgacg': 13, 'attctt': 11, 'ttcttc': 18, 'tcttca': 14, 'cttcat': 14, 'atacag': 13, 'acagct': 18, 'ctgatc': 13, 'gatcgg': 13, 'tcggaa': 18, 'ggaaca': 14, 'aacagt': 11, 'acagta': 13, 'gtaagc': 19, 'taagcg': 13, 'gaatga': 7, 'aatgac': 16, 'actgca': 15, 'ctgcaa': 15, 'aaaatt': 8, 'aaattg': 12, 'tgaata': 11, 'gaataa': 16, 'gtcagg': 12, 'tcaggg': 14, 'agggcg': 12, 'tgtttt': 9, 'gttttc': 10, 'ttttcc': 19, 'tttcct': 22, 'ttcctc': 14, 'tcctcg': 12, 'ctcggg': 13, 'tcgggt': 10, 'tacgct': 10, 'ctcatg': 14, 'atgcaa': 13, 'tgcaac': 10, 'gcaaca': 14, 'caacag': 17, 'aacagg': 20, 'acaggg': 10, 'caggga': 12, 'agggat': 13, 'gatgta': 9, 'atgtag': 19, 'gtagcg': 8, 'ggtagc': 11, 'gcgcca': 14, 'gtgaca': 15, 'aggtcc': 10, 'ggtccc': 10, 'tccctc': 16, 'ccctca': 10, 'cctcag': 11, 'agatga': 13, 'gatgag': 14, 'atgaga': 9, 'tgagat': 9, 'gagatt': 15, 'agattg': 11, 'ttgcgt': 18, 'tgcgtg': 13, 'gcgtgt': 15, 'tcccta': 10, 'ccctag': 13, 'ctaggt': 21, 'taggta': 18, 'taagac': 15, 'aagacc': 13, 'agaccc': 11, 'acccaa': 13, 'actcgc': 18, 'ctcgct': 14, 'cgctct': 5, 'gctctg': 10, 'tctggc': 11, 'ctggct': 12, 'ggcttc': 10, 'gcttcg': 11, 'cttcgg': 10, 'ttcgga': 12, 'cggatg': 14, 'gatgtt': 11, 'tgtttg': 16, 'gtttgc': 12, 'tttgca': 15, 'gcataa': 11, 'cataac': 19, 'aagtag': 13, 'gcccgg': 18, 'agcata': 15, 'catagt': 11, 'tagtct': 13, 'gtctta': 16, 'taggct': 18, 'aggctc': 18, 'ttagac': 17, 'gactat': 9, 'agagta': 13, 'tacctt': 10, 'ctttag': 11, 'tcctga': 19, 'cctgaa': 11, 'ctgaac': 13, 'aacgca': 13, 'cgcacg': 10, 'gcacgg': 17, 'ggcata': 12, 'cataaa': 10, 'taaatt': 12, 'aaatta': 5, 'aattac': 13, 'ttactt': 15, 'tacttt': 17, 'actttc': 14, 'ctttcc': 18, 'ctcgga': 14, 'aaacag': 13, 'acagaa': 11, 'aatgca': 10, 'tgcagt': 16, 'gcagtt': 16, 'cagttc': 13, 'agttcg': 15, 'gttcgg': 9, 'aagcct': 7, 'gcctgc': 9, 'cctgcc': 11, 'gctaaa': 11, 'ctaaac': 15, 'aacaca': 14, 'acacaa': 10, 'cacaag': 14, 'acaagg': 14, 'aggtac': 8, 'ttagag': 15, 'tctgtc': 13, 'ctgtcg': 15, 'gtcgca': 11, 'tctgag': 19, 'ggagtg': 14, 'agtgcg': 12, 'gtgcgc': 11, 'gcaaat': 5, 'aaatga': 13, 'gactgg': 6, 'atctat': 12, 'tctatc': 17, 'ctatct': 14, 'tctgca': 20, 'tgcatc': 21, 'catctc': 15, 'cctttc': 18, 'tcgcaa': 10, 'caaacg': 17, 'aaacgc': 11, 'cgcccc': 11, 'gcccct': 13, 'cccctt': 13, 'cccttg': 14, 'cttgtg': 15, 'ttgtgg': 11, 'tgtggc': 11, 'gtggcc': 15, 'tggccg': 12, 'ggccgg': 15, 'gccggg': 10, 'ccgggg': 11, 'cgggga': 12, 'ggggag': 7, 'gggaga': 11, 'ggagat': 17, 'gagatc': 13, 'agatca': 11, 'gatcat': 15, 'tcatcc': 15, 'catcca': 10, 'atccac': 6, 'tccacg': 7, 'cacgtc': 13, 'tctctt': 11, 'ttagtc': 17, 'tagtcg': 12, 'cgatgt': 4, 'gtcgac': 14, 'tcgaca': 14, 'cgacat': 13, 'gacatg': 12, 'catgct': 15, 'atgctc': 8, 'tgctct': 12, 'ctctga': 7, 'gacttg': 17, 'acttga': 15, 'tgaggc': 19, 'gaggcc': 17, 'aggcca': 14, 'ggccaa': 15, 'gccaat': 8, 'ccaatc': 4, 'atctcg': 19, 'tcgtcg': 20, 'cgtcgt': 13, 'gtcgtc': 15, 'gtcgta': 9, 'cgtacg': 6, 'gtacgg': 12, 'tacggc': 9, 'acggcg': 9, 'cggcgt': 6, 'gtcccc': 9, 'tccccc': 13, 'cccccg': 17, 'ccccgc': 9, 'cccgcc': 7, 'gccttg': 11, 'ccttga': 8, 'cttgac': 17, 'tgacga': 9, 'gacgaa': 17, 'acgaaa': 8, 'gcacag': 13, 'cacagc': 13, 'cagcta': 16, 'actgaa': 16, 'ctgaag': 20, 'aagaga': 19, 'agagac': 12, 'agacag': 12, 'acaggc': 9, 'caggct': 9, 'aggctt': 10, 'ggcttt': 10, 'gctttg': 12, 'ctttgc': 17, 'tttgcg': 17, 'tgcgtt': 12, 'gcgttt': 12, 'gtttcc': 16, 'ttcctg': 16, 'tggaac': 22, 'cccaga': 9, 'ccagaa': 7, 'cagaaa': 10, 'aattta': 18, 'ttactg': 17, 'tactgt': 13, 'gttgtg': 12, 'tggatc': 20, 'ggatcg': 11, 'gatcga': 11, 'tcgact': 12, 'cgactt': 19, 'actttg': 18, 'ctttgt': 8, 'tttgtt': 15, 'ttgttg': 10, 'acgcgt': 11, 'gcgtgc': 5, 'cgtgcg': 15, 'gtgcgt': 16, 'gcgttg': 13, 'ttgcag': 12, 'aggcag': 20, 'ggcagt': 16, 'tgtgag': 17, 'gtgagc': 17, 'tgagcg': 13, 'gagcgg': 12, 'agcggt': 9, 'gcggta': 12, 'taagta': 10, 'agtatt': 11, 'attaga': 13, 'tagacg': 11, 'gggata': 8, 'gataat': 17, 'taataa': 11, 'ctaata': 13, 'aatact': 11, 'tacttg': 11, 'gttgct': 20, 'ttgctc': 17, 'ctccga': 15, 'aaccat': 14, 'accatt': 13, 'cattag': 10, 'attagt': 15, 'ttggaa': 13, 'aacatg': 15, 'acatgg': 15, 'tggtag': 11, 'cggcct': 17, 'ggcctg': 15, 'gggggg': 9, 'atggga': 13, 'tgggaa': 12, 'gtggtc': 12, 'cccttt': 10, 'cttaag': 16, 'ttaagc': 17, 'aagctc': 15, 'ctcagt': 7, 'ttatat': 13, 'tatata': 7, 'atataa': 13, 'tcacct': 14, 'ttttgc': 11, 'agtcgg': 13, 'gcgtcg': 7, 'cgcaag': 17, 'aaggca': 18, 'agttca': 23, 'catccc': 14, 'ccgtca': 14, 'cgtcaa': 14, 'gtcaat': 14, 'caataa': 12, 'aataat': 13, 'ataatg': 16, 'taatga': 15, 'atgacc': 15, 'tgaccc': 11, 'gacccc': 13, 'accccg': 11, 'ccgggt': 18, 'ggttgt': 13, 'tgtaag': 14, 'agaact': 9, 'gaactc': 10, 'ctcgcc': 14, 'tcgccg': 14, 'ctaatt': 9, 'taatta': 17, 'aattag': 11, 'tagttt': 11, 'agtttc': 12, 'cagatc': 16, 'gatccc': 21, 'atccct': 18, 'ccctac': 14, 'actctg': 15, 'aagcgc': 14, 'gcccgc': 11, 'gcttaa': 14, 'cttaac': 13, 'ttaaca': 12, 'cactag': 7, 'ctagcg': 15, 'gtactt': 14, 'tacttc': 14, 'acttca': 12, 'ttcaaa': 25, 'tcaaag': 17, 'aaagag': 12, 'agatta': 24, 'atagtt': 15, 'tagttc': 16, 'agttct': 19, 'gttctc': 16, 'ttctct': 13, 'tctctc': 11, 'ctctca': 9, 'tctcag': 8, 'ctcagg': 11, 'tcaggc': 13, 'ggcaca': 18, 'ggacgc': 17, 'gacgct': 8, 'acgctg': 10, 'cgctga': 13, 'tgaaca': 11, 'ttctgc': 12, 'gcaacg': 14, 'caacgc': 19, 'ccccgt': 12, 'cgtttg': 11, 'gtttgg': 13, 'tttggt': 12, 'gttcct': 16, 'ttcctt': 14, 'tcctta': 13, 'ccttaa': 16, 'ttaaat': 20, 'aattaa': 13, 'gacggc': 9, 'acggca': 8, 'gcatgc': 10, 'tgcagc': 13, 'gcagcc': 15, 'ccgaag': 15, 'cgaagc': 15, 'gctagt': 18, 'ctagtc': 15, 'agtcaa': 13, 'gtcaag': 16, 'tcaagt': 14, 'caagtc': 13, 'ctctct': 12, 'ctctgt': 21, 'tctgtg': 13, 'gcgtag': 9, 'gtagaa': 7, 'aattgg': 11, 'attggg': 7, 'tgggtg': 11, 'ggtgcg': 10, 'tgcgtc': 12, 'aatctt': 11, 'atctta': 8, 'gacgca': 18, 'cgcagt': 15, 'gcagta': 20, 'tatcac': 9, 'atcaca': 15, 'tcacat': 14, 'cacatc': 13, 'acatcc': 16, 'ttgcta': 11, 'ctatga': 10, 'ggacga': 11, 'acgaca': 17, 'cgacaa': 16, 'gacaaa': 16, 'caaaaa': 7, 'aaaaag': 10, 'aaagtg': 10, 'gttaaa': 10, 'aacctt': 14, 'ccttcc': 10, 'ttccgt': 14, 'tccgtg': 17, 'ccgtgc': 13, 'cgtgca': 11, 'gtgcat': 18, 'ttggag': 13, 'ggaggc': 15, 'gaggct': 11, 'aggctg': 10, 'tcgccc': 15, 'ataatt': 22, 'taattg': 12, 'agccac': 17, 'gccacc': 10, 'caccat': 10, 'accatc': 13, 'ccatca': 12, 'atcacg': 16, 'tcacgg': 17, 'acggtg': 17, 'gaggaa': 12, 'aggaac': 9, 'gaacct': 9, 'aatatc': 14, 'cacttt': 11, 'tttcgg': 10, 'tcggac': 15, 'ggacaa': 11, 'gacaat': 12, 'gacacg': 14, 'cgcatg': 11, 'ctaact': 4, 'aactcc': 13, 'agtagg': 15, 'gtagga': 8, 'taggag': 13, 'ggagcc': 20, 'gagccc': 15, 'ctccaa': 11, 'ccaaaa': 9, 'ggatga': 15, 'gacgtt': 15, 'catagg': 15, 'ataggt': 12, 'taggtg': 9, 'gtgcgg': 10, 'tgcggc': 13, 'gcggcc': 11, 'gccagt': 17, 'ccagtc': 10, 'cagtcg': 12, 'agtcga': 13, 'gtcgat': 13, 'tcgatt': 17, 'attaaa': 20, 'tgttag': 15, 'gttagc': 15, 'gcccag': 15, 'cccagt': 8, 'agtaac': 12, 'gtaacg': 11, 'taacgg': 13, 'aacggt': 12, 'tagaat': 13, 'tcgggg': 9, 'ggactg': 13, 'tagcaa': 17, 'caaggg': 14, 'aagggc': 9, 'agtcgt': 7, 'gtcgtt': 10, 'gttgcg': 22, 'ttgcga': 16, 'actctc': 3, 'ccgcga': 7, 'cgcgag': 12, 'gagcca': 10, 'agccat': 8, 'gccatc': 6, 'tcttat': 9, 'cttatt': 13, 'ttatta': 12, 'attagg': 10, 'aattgc': 13, 'ggattg': 17, 'attgtt': 16, 'cggtct': 12, 'tctcgg': 13, 'aagatc': 11, 'cccata': 11, 'ccatat': 14, 'catatg': 17, 'atatga': 16, 'atgatc': 17, 'tctcgc': 12, 'ctcgcg': 14, 'gctcgc': 10, 'ggtgag': 10, 'catgta': 20, 'tgtacc': 17, 'gtaccg': 16, 'tctcga': 10, 'ctcgat': 14, 'tcgata': 13, 'cacgat': 6, 'acgatc': 12, 'cgatca': 14, 'gatcac': 19, 'cacggg': 12, 'cgggtc': 14, 'ggtctt': 11, 'ttaggg': 17, 'taggga': 12, 'agggag': 6, 'gggagg': 5, 'ggactt': 16, 'gactta': 11, 'accagg': 9, 'ccaggt': 8, 'ccctct': 17, 'cttttt': 15, 'tttttg': 19, 'ttttgt': 12, 'tttgtg': 6, 'ggccgt': 12, 'gccgta': 13, 'gtattg': 18, 'ttgcgg': 14, 'gcggcg': 7, 'gcaggg': 15, 'gagtgt': 9, 'tgtctt': 18, 'tggcgc': 9, 'gccaac': 9, 'caacca': 12, 'caattc': 9, 'aattcg': 15, 'attcga': 9, 'ttcgat': 13, 'cgatac': 10, 'tacgat': 13, 'acgatt': 8, 'gattag': 12, 'agcacg': 8, 'caggcc': 14, 'aggccc': 14, 'gcccca': 5, 'attttt': 13, 'tttgtc': 11, 'ttaaga': 14, 'atgtat': 11, 'gtatgc': 11, 'tatgcc': 15, 'ccgcaa': 13, 'caagtg': 17, 'tgtaca': 19, 'tacacc': 15, 'caccgg': 11, 'accggt': 18, 'cggttt': 11, 'ggtttc': 16, 'tttctt': 15, 'cttcga': 12, 'aacccg': 18, 'gcggat': 13, 'cggatc': 14, 'aagtca': 12, 'caagag': 15, 'tgcaca': 12, 'accggg': 8, 'ggttga': 15, 'gttgaa': 7, 'cccgag': 13, 'tgacca': 10, 'tcctct': 13, 'ctctcg': 9, 'tcggcc': 11, 'ggcctt': 14, 'ttaagg': 11, 'taagga': 11, 'aaggat': 14, 'gatatg': 13, 'atatgt': 12, 'tatgtg': 13, 'atgtgt': 14, 'ctcttc': 14, 'cttctc': 15, 'ttctca': 19, 'cagctt': 13, 'agcttg': 17, 'gcttgg': 11, 'cgagtt': 16, 'gttcaa': 20, 'tcaaca': 10, 'aagaaa': 14, 'ggagaa': 16, 'gaatgg': 18, 'aatggt': 14, 'atggtt': 19, 'cacctc': 15, 'acctcg': 15, 'cctcgc': 16, 'ccatag': 8, 'aggggc': 12, 'ggggcc': 11, 'gggccg': 11, 'gtatca': 15, 'catgac': 13, 'tgacat': 14, 'acatga': 13, 'aaaaca': 17, 'caggcg': 13, 'ggcggt': 17, 'cggtag': 6, 'ggtaga': 6, 'gtagag': 11, 'acgaag': 12, 'cgaaga': 11, 'atatac': 17, 'atactg': 11, 'actgcg': 8, 'ctgcga': 11, 'tgcgaa': 14, 'tcgatg': 9, 'cgatgc': 12, 'gcggtt': 13, 'ttgtga': 13, 'gtgaaa': 13, 'gaaacc': 14, 'tcccct': 19, 'ccccta': 15, 'ccctat': 12, 'cctata': 15, 'atagca': 11, 'agcaac': 10, 'gcaact': 12, 'tgcgcc': 16, 'ccgtgg': 12, 'cgtggc': 10, 'agagaa': 13, 'ggatcc': 20, 'atcccc': 18, 'ccgtac': 12, 'taccgg': 13, 'ctatac': 8, 'tacgaa': 8, 'aagaca': 10, 'acacat': 16, 'aatgat': 10, 'atgatt': 12, 'gatttc': 14, 'ttcggt': 5, 'agcccc': 10, 'cccacc': 12, 'ccaccg': 9, 'caccgt': 17, 'tcgcgg': 18, 'gttttt': 12, 'tttttc': 16, 'ttttct': 11, 'tttcta': 9, 'atgcta': 12, 'gctatc': 16, 'tctttg': 9, 'tgcatg': 13, 'gcatga': 13, 'gatcca': 11, 'ggcggc': 10, 'gcggct': 9, 'ctccgt': 11, 'cgtact': 10, 'acttct': 8, 'ctgacc': 13, 'gaccct': 15, 'accctt': 13, 'cccttc': 11, 'cttctt': 10, 'ttcttt': 12, 'tttcga': 13, 'ttcgac': 13, 'gacatc': 8, 'acatct': 8, 'tctaga': 10, 'agatgc': 12, 'gatgct': 10, 'atgctt': 14, 'tgcttc': 12, 'ccagtt': 14, 'gttttg': 6, 'tgatgc': 15, 'gatgcc': 12, 'gccgcg': 9, 'gcggag': 17, 'cgggcg': 14, 'gggcgt': 15, 'gtctag': 18, 'gtgacc': 11, 'gaccga': 15, 'cgaagt': 12, 'gaagtc': 9, 'aagtcc': 11, 'agtccg': 17, 'tccgag': 12, 'aggagg': 13, 'gagccg': 10, 'agaggc': 19, 'ggctca': 9, 'ttggtg': 13, 'ggtggt': 11, 'gtggtt': 8, 'tggttg': 13, 'ttgctt': 14, 'ttgata': 12, 'atatcc': 13, 'tatccc': 15, 'tccccg': 6, 'ccccga': 15, 'tttccg': 14, 'ttccga': 10, 'gaattg': 22, 'aattgt': 12, 'tcacac': 19, 'cacact': 11, 'actact': 13, 'ctacta': 13, 'agtggg': 15, 'gtgggt': 11, 'tttagc': 12, 'gcacca': 10, 'caatta': 16, 'ttagta': 11, 'tagtaa': 15, 'agtaat': 13, 'aatgga': 12, 'atggag': 11, 'gaagtt': 10, 'tgcgct': 15, 'ttatgt': 10, 'gtaaaa': 14, 'aacctc': 17, 'acctca': 15, 'catcgt': 11, 'atcgtt': 6, 'tccgcc': 14, 'ccgccc': 11, 'cgccct': 17, 'ccctcg': 10, 'gggacg': 17, 'gacgta': 17, 'ggaata': 18, 'aataaa': 10, 'ataaac': 8, 'gaggca': 21, 'ggcaga': 9, 'gcagat': 15, 'cagata': 16, 'agataa': 12, 'ttgaca': 14, 'actcca': 13, 'cagcca': 15, 'acgagg': 8, 'cgaggg': 15, 'gaggga': 12, 'gggatc': 15, 'acgcca': 12, 'cgccat': 7, 'gccata': 11, 'ccatac': 9, 'gtgctt': 7, 'tgcttt': 11, 'ctttgg': 12, 'tttggc': 17, 'caagcc': 8, 'aagccc': 14, 'gccctt': 12, 'ccctta': 13, 'cttact': 8, 'ctatat': 6, 'tatatt': 14, 'tattcc': 10, 'acttta': 12, 'ttatct': 20, 'ctatcg': 15, 'gtaggg': 10, 'tagggc': 10, 'gctgag': 18, 'gattga': 13, 'attgat': 17, 'tgatca': 22, 'tcatca': 8, 'tcaacc': 17, 'cctcac': 13, 'ctcacc': 21, 'gtatac': 11, 'tataca': 12, 'atacat': 14, 'ttgttt': 8, 'ttaacc': 17, 'gtcggc': 14, 'gccgac': 14, 'tgttcg': 13, 'cgacgg': 8, 'ggaaat': 17, 'taaact': 10, 'ctcaca': 12, 'cccgca': 10, 'ccgcat': 10, 'caaccc': 16, 'acccgt': 14, 'cgttag': 18, 'gttaga': 23, 'agatcg': 11, 'gttaca': 8, 'caaatt': 13, 'aaattc': 17, 'gcgaca': 15, 'cgacac': 14, 'acgcga': 16, 'ttcatt': 9, 'tatgcg': 8, 'atgcgc': 18, 'gcgcac': 15, 'agcaaa': 13, 'aaagcg': 18, 'agcgtg': 11, 'ggtaaa': 10, 'gtaaat': 10, 'taaatg': 11, 'aaatgc': 5, 'tgcctg': 8, 'gcctgt': 10, 'gtgccc': 14, 'tgccct': 12, 'attggc': 12, 'ttggcc': 10, 'ccgagc': 12, 'cgagct': 13, 'gagctt': 16, 'agcttt': 11, 'tgcgga': 10, 'cggacg': 15, 'gctaca': 17, 'aaatca': 16, 'atcaga': 12, 'cagatt': 14, 'tgtgat': 12, 'tgataa': 16, 'taattc': 8, 'aattct': 15, 'tcttac': 11, 'tttaag': 11, 'atgaac': 14, 'acaatt': 12, 'attgga': 14, 'aacaat': 13, 'acctat': 11, 'cctatg': 13, 'ctatgc': 10, 'tatgct': 7, 'tgctta': 10, 'atttct': 16, 'tagggt': 15, 'gggtaa': 15, 'actggg': 8, 'ctggga': 7, 'cagaac': 13, 'gaacta': 7, 'taacca': 16, 'aaatat': 14, 'aatata': 7, 'tctact': 14, 'tatcgt': 15, 'atcgta': 15, 'taatgt': 15, 'atgttc': 10, 'ttccat': 17, 'catgtg': 11, 'tcttcc': 16, 'gtcgcc': 8, 'tcgcct': 11, 'ctagaa': 10, 'gaactt': 12, 'ttggtc': 15, 'ggtcta': 19, 'taggtc': 15, 'taaagt': 16, 'aaagta': 9, 'aagtaa': 11, 'gatcgt': 14, 'atcgtg': 17, 'gtgcac': 10, 'tgcacg': 11, 'gcacgc': 12, 'acgctt': 11, 'gctttc': 17, 'ctttca': 20, 'tttcaa': 16, 'tcaacg': 19, 'caacgg': 17, 'aacgga': 16, 'cggact': 18, 'gacttc': 11, 'catttg': 11, 'tggact': 16, 'tactga': 11, 'tgagcc': 12, 'tgctga': 11, 'ataaag': 10, 'tggtcg': 9, 'tcggtc': 6, 'cttcgc': 13, 'catgat': 9, 'atgatg': 10, 'tgatga': 12, 'tgacaa': 12, 'gacaac': 12, 'acttgc': 9, 'cttgcg': 11, 'aggcat': 12, 'agaatt': 11, 'acacca': 13, 'caccag': 9, 'aaaccc': 9, 'ccgtaa': 12, 'cgtaac': 16, 'ccttat': 13, 'cggaag': 8, 'gaagaa': 11, 'aatgct': 13, 'gctcgg': 12, 'tcggca': 10, 'cggcac': 17, 'ggcacc': 15, 'caccct': 16, 'acccta': 9, 'ggggtt': 15, 'gaggtg': 11, 'taagcc': 17, 'cgccgt': 10, 'ccagga': 19, 'ccacac': 13, 'acacgg': 14, 'cacggc': 13, 'acggcc': 17, 'cggccc': 15, 'tgcgcg': 11, 'gggaaa': 14, 'gaaatc': 15, 'atcaaa': 8, 'ctcccc': 9, 'tagctg': 11, 'gctgtg': 13, 'tgtgct': 18, 'gctttt': 13, 'tttaat': 10, 'ccacaa': 11, 'caatcg': 11, 'gggaat': 17, 'tcagga': 8, 'caggag': 15, 'atttaa': 11, 'taatct': 12, 'gcgata': 11, 'ccgagt': 9, 'tcgtta': 15, 'taggca': 17, 'ggcagc': 12, 'agctgg': 23, 'gctgga': 16, 'gcacat': 19, 'catcgc': 17, 'gcgtta': 16, 'gttagg': 18, 'gggcgg': 12, 'tgccag': 18, 'cagtag': 10, 'ctccac': 13, 'tccaca': 11, 'cacagt': 8, 'acagtg': 6, 'tggctg': 12, 'ggctgg': 11, 'tggtta': 15, 'ggttag': 22, 'gttagt': 8, 'gtcacc': 11, 'tcaccc': 16, 'acagat': 20, 'agatac': 12, 'gatact': 10, 'gctgcg': 8, 'acattg': 13, 'cgcaac': 13, 'gtccgt': 14, 'aatcgt': 11, 'ctgatg': 8, 'cgaggc': 7, 'ctggat': 20, 'atgtct': 12, 'ctgccg': 13, 'cgaacg': 10, 'gaacga': 6, 'aacgac': 11, 'acccct': 9, 'cccctg': 10, 'gagttt': 14, 'gcagtc': 13, 'agtcca': 8, 'gtccac': 11, 'tccact': 13, 'actaat': 9, 'attctc': 16, 'ttctcc': 18, 'cacatg': 14, 'atcact': 13, 'tcactg': 13, 'ctgcgc': 11, 'ccattt': 15, 'accatg': 11, 'cggggc': 7, 'ggggct': 9, 'ggctcg': 13, 'ggagca': 11, 'atccag': 18, 'ttggca': 15, 'gcacga': 13, 'acgaac': 13, 'acataa': 17, 'tatacc': 13, 'agtgag': 11, 'gtgagg': 16, 'aggccg': 16, 'agagct': 11, 'aattat': 12, 'tggtca': 15, 'ctcctc': 11, 'tcctca': 10, 'tacaga': 12, 'tagagc': 8, 'tgatcc': 11, 'tccctt': 10, 'gagctc': 14, 'tcgacc': 11, 'agttag': 9, 'aggatg': 13, 'tgtata': 7, 'agcgtt': 11, 'ttgaag': 11, 'gtgttc': 9, 'gataca': 8, 'cgtttt': 6, 'tttctc': 12, 'gatgat': 16, 'taccct': 11, 'accctc': 10, 'atggca': 16, 'tggcat': 13, 'atcgca': 10, 'attgct': 7, 'ttgctg': 10, 'tactca': 16, 'tccgtc': 11, 'ctccct': 12, 'cgacag': 12, 'gacaga': 15, 'tgtagg': 6, 'tagcgt': 8, 'tacaag': 9, 'gacaag': 14, 'aaggct': 8, 'gctgca': 10, 'ctgcac': 11, 'acaatg': 14, 'caatgg': 11, 'cggaga': 11, 'attgag': 15, 'tttcca': 14, 'ctctag': 14, 'ctaggc': 10, 'taggcc': 10, 'ggccgc': 8, 'caaaca': 10, 'aaacaa': 12, 'acaata': 8, 'aatctg': 13, 'tctgcg': 9, 'cggcgg': 8, 'cggctt': 9, 'tattaa': 12, 'gcgacg': 12, 'gtagca': 14, 'aggcaa': 14, 'ggcaac': 15, 'atttgc': 12, 'tttgct': 12, 'gctctc': 14, 'ggcccg': 15, 'cgggag': 10, 'ggagag': 9, 'atacgt': 12, 'aagcgg': 15, 'tagcac': 6, 'cacaca': 15, 'agaaaa': 9, 'gaaaat': 12, 'ccagag': 11, 'cagagc': 9, 'cctacc': 14, 'ggcaaa': 11, 'tatgga': 12, 'aaacca': 11, 'tgcctt': 15, 'gccttc': 21, 'cttcag': 12, 'gtagtt': 11, 'agcaga': 12, 'gcagag': 11, 'aataca': 12, 'atacaa': 5, 'caattt': 11, 'ttagct': 12, 'cgactg': 11, 'gactga': 13, 'ctgaat': 14, 'gaatag': 8, 'tggaat': 18, 'tactaa': 5, 'aacgta': 11, 'acgtaa': 15, 'cgtaaa': 15, 'gtttgt': 16, 'tctcac': 19, 'acgacg': 7, 'agtttg': 13, 'tttgcc': 8, 'ttcaat': 15, 'tcaatt': 13, 'ttatgg': 13, 'tcttgt': 9, 'ggatct': 18, 'tctaag': 16, 'ctaagt': 8, 'atcgcc': 8, 'gcccta': 17, 'cagcga': 10, 'accgtt': 14, 'atctga': 14, 'aacccc': 15, 'cgccag': 11, 'gccagg': 12, 'cctcga': 13, 'gatcag': 15, 'atcagg': 17, 'taaagc': 15, 'cagtat': 13, 'gaaaaa': 15, 'aaaaac': 12, 'ccggtc': 7, 'cttgct': 13, 'tgaggg': 17, 'atttag': 17, 'atcgag': 11, 'tggcct': 14, 'cttcac': 18, 'ggcgca': 13, 'ggggca': 13, 'ctttga': 10, 'agtgcc': 7, 'cccgac': 11, 'tgttgg': 10, 'tgacct': 15, 'agaacg': 12, 'ttattc': 11, 'tccata': 13, 'agggtg': 14, 'tgtcta': 9, 'atgcca': 13, 'tgccat': 11, 'gacagc': 14, 'gaggcg': 11, 'gcggtc': 10, 'ggtcca': 10, 'cgttgg': 10, 'gttggt': 13, 'gtaccc': 8, 'gggttc': 14, 'catcag': 8, 'cagcag': 13, 'cactct': 10, 'ggaggt': 6, 'tacagg': 13, 'tgtccg': 9, 'gtccgg': 10, 'ccggag': 12, 'agccta': 11, 'gtctaa': 8, 'gagtag': 15, 'agtaga': 14, 'acgtac': 10, 'atcata': 11, 'tattgg': 8, 'atcgaa': 16, 'tcgaaa': 15, 'cgaaac': 10, 'gaaacg': 10, 'aaacga': 8, 'aacgat': 8, 'aaacta': 10, 'aactat': 12, 'actatt': 12, 'ctatta': 15, 'gcaatt': 8, 'ttatgc': 4, 'tgccaa': 10, 'aactgc': 12, 'gatgca': 15, 'tgcaat': 8, 'ctgcag': 21, 'cctggc': 16, 'ctggca': 15, 'cttcca': 20, 'ttccac': 14, 'tccacc': 13, 'accact': 10, 'cactgg': 13, 'ggtgta': 8, 'acctag': 14, 'agctgc': 12, 'gcaacc': 8, 'aaccag': 13, 'tagacc': 10, 'tatatg': 9, 'atgaat': 10, 'tgaatt': 13, 'gagaac': 16, 'cttacg': 13, 'tcgtat': 17, 'attata': 14, 'gtatcg': 15, 'tatcga': 12, 'cacctg': 12, 'tgctca': 10, 'cctttg': 8, 'gtgagt': 11, 'taacct': 21, 'aagtgg': 20, 'agtgga': 17, 'atccaa': 12, 'tccaag': 11, 'caagat': 10, 'acagtc': 7, 'atatgc': 13, 'tatgca': 8, 'atgcat': 11, 'cgaaat': 15, 'gaaatg': 11, 'aatgaa': 10, 'ggcgaa': 11, 'gaagac': 7, 'ccctaa': 12, 'ctaaat': 8, 'taaatc': 11, 'taaggg': 10, 'aagggg': 14, 'aggcct': 11, 'ggcctc': 16, 'cctcaa': 13, 'ctcaat': 11, 'ccgaca': 8, 'caagct': 13, 'gctcca': 14, 'atgagt': 16, 'gagtcc': 13, 'cctccc': 11, 'cccatc': 12, 'ccatcg': 11, 'cacccc': 8, 'cgcttg': 10, 'caggta': 9, 'tacatt': 13, 'aataag': 9, 'ataagt': 14, 'caaccg': 13, 'ccaatg': 10, 'caatgc': 19, 'cgatat': 14, 'ggcgcg': 4, 'cgcgcc': 16, 'gcgcct': 22, 'cgtagt': 11, 'ggtagt': 10, 'cattga': 15, 'ggctat': 13, 'gctata': 12, 'cagcgt': 9, 'gtagct': 10, 'agtacg': 11, 'gagggc': 10, 'ggggtg': 8, 'gggtga': 10, 'ccgact': 13, 'cgctgc': 8, 'atggtg': 15, 'ggtggg': 14, 'gtgggc': 9, 'tgggcc': 12, 'actcaa': 15, 'agctcg': 7, 'cgcctg': 8, 'cctgta': 14, 'ctgtag': 9, 'agaccg': 12, 'ggtcgt': 11, 'atcgtc': 13, 'cagact': 9, 'gactcc': 7, 'cattgc': 14, 'tttgac': 11, 'ttgact': 10, 'tgactc': 8, 'cactta': 14, 'ttaccg': 8, 'cgttac': 9, 'cactga': 17, 'actgat': 8, 'gttact': 18, 'ttactc': 11, 'gtaacc': 12, 'acagcg': 11, 'atgccc': 8, 'gctacc': 12, 'ttttca': 10, 'tttcat': 13, 'gtaatc': 9, 'gttaag': 16, 'ctagtt': 12, 'gtagta': 12, 'tggcaa': 14, 'tggcag': 15, 'gccaga': 10, 'cattgg': 13, 'gcccac': 12, 'ccacct': 13, 'tttttt': 12, 'ttcgtc': 17, 'tgggag': 11, 'gggagt': 7, 'ttctcg': 9, 'tagatt': 18, 'gcttgc': 11, 'gtacag': 11, 'cgcggc': 10, 'cagtga': 15, 'ggtacg': 14, 'gagaga': 16, 'ttaatt': 14, 'aattcc': 9, 'cacata': 14, 'aggcgt': 9, 'ggctaa': 11, 'cagtca': 9, 'tcgtga': 9, 'cgcaga': 13, 'cgaact': 10, 'gaagcc': 15, 'gccatt': 13, 'gcacct': 11, 'cgatcg': 12, 'tcagaa': 10, 'agaacc': 11, 'tcgcta': 12, 'tcgtcc': 11, 'gtccat': 12, 'taagtc': 7, 'tcaatc': 11, 'aatcat': 12, 'atcatt': 16, 'tcattg': 16, 'ttgaaa': 14, 'ggaact': 9, 'cctaca': 10, 'acacgt': 12, 'cgttgt': 13, 'gtatgg': 12, 'tggtgc': 13, 'cggctg': 12, 'ggctgt': 13, 'gacctc': 9, 'attcaa': 16, 'agagcc': 10, 'tgggtc': 10, 'ctcgca': 14, 'ctacgc': 12, 'accttg': 10, 'ccagat': 12, 'atagta': 11, 'tcacgt': 16, 'cacgtg': 9, 'gaatta': 10, 'ttacag': 12, 'tacagt': 8, 'agttga': 18, 'gcgagg': 10, 'agggcc': 8, 'gaggta': 7, 'aggtag': 16, 'tcgaga': 12, 'cgtcat': 14, 'gaccaa': 4, 'acggtt': 9, 'gatctt': 12, 'atgagc': 6, 'ctttct': 11, 'ctagac': 12, 'tagaca': 14, 'agacaa': 15, 'gcgaaa': 14, 'cgtaag': 13, 'gtaagg': 11, 'ggccta': 5, 'tgagta': 15, 'ccaccc': 12, 'cccctc': 11, 'accaga': 8, 'gcagca': 10, 'catacg': 11, 'agtgac': 9, 'tagcat': 17, 'gggagc': 11, 'ggagct': 15, 'actgac': 12, 'gatagc': 11, 'aagccg': 13, 'gtgctc': 12, 'gcttca': 15, 'gcatat': 13, 'cggcaa': 13, 'cactat': 9, 'actatg': 12, 'tgagag': 17, 'ggtccg': 5, 'agagtt': 15, 'tccatt': 9, 'tagtat': 11, 'accccc': 10, 'caacac': 6, 'tgccgt': 13, 'tgcact': 12, 'tcgcac': 10, 'tcctaa': 18, 'acggag': 18, 'gtttcg': 9, 'ttgcca': 13, 'ccatct': 14, 'taaaaa': 9, 'cattcc': 13, 'attcct': 12, 'agggac': 10, 'tgatta': 7, 'gtaaag': 14, 'acaacc': 15, 'tgctgt': 16, 'tgagtg': 11, 'ccattc': 12, 'tcgctg': 9, 'ttcatc': 21, 'ccagac': 9, 'ggacgg': 9, 'aaaggc': 7, 'ttagca': 15, 'ttcaag': 14, 'aacatc': 14, 'tcacta': 8, 'cagggg': 11, 'gggcct': 8, 'ccgatc': 16, 'agattt': 9, 'aggtat': 9, 'taaggc': 16, 'aaggcc': 14, 'agtaaa': 12, 'agtgct': 8, 'tgttgc': 17, 'acaaca': 12, 'gtcttt': 13, 'cttatg': 6, 'gacgat': 7, 'tgaagt': 8, 'ttttta': 6, 'aaaaat': 8, 'acctgc': 12, 'cttgcc': 13, 'cctcta': 15, 'acgatg': 8, 'tgctaa': 9, 'caagga': 18, 'attccc': 11, 'agtagt': 9, 'tttatg': 10, 'tgccca': 12, 'cagcaa': 15, 'gggtgt': 8, 'ggtgtg': 12, 'tgaact': 9, 'ccctgg': 7, 'cctgga': 14, 'acgttt': 17, 'acgcaa': 14, 'atcggc': 14, 'ggcgtt': 7, 'ctggtg': 13, 'ccaggc': 10, 'taccat': 10, 'gtagtc': 5, 'atgctg': 11, 'aacggc': 13, 'gagtcg': 9, 'aaatgg': 8, 'aatggg': 12, 'tcatgt': 12, 'tgtgtt': 7, 'gcttac': 5, 'cgccac': 11, 'gcctgg': 14, 'gggtcg': 12, 'ggcaag': 8, 'cgaaaa': 14, 'aaaagc': 12, 'cctcgt': 8, 'ctcgtg': 11, 'tggagc': 8, 'gcactt': 8, 'tagaag': 5, 'agaagt': 6, 'aagtta': 11, 'gtccgc': 10, 'tccgca': 13, 'atttcc': 6, 'aggcta': 8, 'ctgtga': 11, 'gaatct': 12, 'aacaac': 19, 'ctgcgt': 7, 'ccgcag': 10, 'cagagt': 8, 'gagtta': 20, 'agttaa': 16, 'acgata': 6, 'ggcatt': 11, 'caacaa': 12, 'atgcac': 8, 'gttacc': 12, 'gcaatg': 15, 'actccg': 8, 'aaccac': 7, 'ttcggg': 10, 'tcaaac': 13, 'aaacgg': 9, 'ggttac': 15, 'taatcg': 7, 'tctatt': 13, 'agttac': 8, 'caatga': 8, 'gcaagc': 12, 'cccccc': 7, 'agggca': 10, 'gggcag': 12, 'gtcctc': 8, 'atggat': 14, 'actgtg': 13, 'gagctg': 16, 'gtgttt': 6, 'ttggga': 10, 'cagaag': 11, 'ttccct': 4, 'aagtgc': 6, 'acaaac': 7, 'gtgggg': 11, 'tggggc': 8, 'tcgaag': 9, 'gaagtg': 5, 'cgatag': 7, 'acatca': 7, 'gcttct': 12, 'ccccct': 8, 'tccaga': 12, 'catatc': 11, 'cgcaat': 15, 'ccttgc': 9, 'gtcgaa': 11, 'aaaatg': 4, 'atgtcc': 8, 'ggatag': 5, 'gtgatg': 10, 'acgtgc': 15, 'gaactg': 8, 'aatcgc': 9, 'cggtca': 10, 'aatgag': 7, 'gccaca': 9, 'ttgtgc': 11, 'ccccaa': 11, 'ccactt': 11, 'gcccga': 7, 'gagtaa': 5, 'tagtta': 7, 'acggct': 10, 'cgtgcc': 8, 'gacggt': 7, 'cggtcg': 8, 'tcgcag': 14, 'taccga': 14, 'cgcgac': 10, 'tttccc': 9, 'cgacta': 5, 'acaaga': 11, 'gtgcct': 6, 'tacgtt': 8, 'acaagt': 9, 'aaaaaa': 8, 'gcaaga': 7, 'agactt': 6, 'tctcca': 10, 'atagac': 5, 'aaggaa': 8, 'acctcc': 7, 'gtcata': 5}\n"
     ]
    }
   ],
   "source": [
    "import os\n",
    "kmer_size = 6\n",
    "def split_dna(dna, kmer_size):\n",
    "    kmers = []\n",
    "    for start in range(0,len(dna)-(kmer_size-1),1):\n",
    "        kmer = dna[start:start+kmer_size]\n",
    "        kmers.append(kmer)\n",
    "    return kmers\n",
    "kmer_counts = {}\n",
    "for file_name in os.listdir(\".\"):\n",
    "    if file_name.endswith(\".dna\"):\n",
    "        print(\"reading sequences from \" + file_name)\n",
    "        dna_file = open(file_name)\n",
    "        for line in dna_file:\n",
    "            dna = line.rstrip(\"\\n\")\n",
    "            for kmer in split_dna(dna, kmer_size):\n",
    "                current_count = kmer_counts.get(kmer, 0)\n",
    "                new_count = current_count + 1\n",
    "                kmer_counts[kmer] = new_count\n",
    "print(kmer_counts)"
   ]
  },
  {
   "cell_type": "code",
   "execution_count": 73,
   "metadata": {},
   "outputs": [
    {
     "name": "stdout",
     "output_type": "stream",
     "text": [
      "ggacgt : 27\n",
      "cccagc : 24\n",
      "gcgggt : 25\n",
      "tctagg : 24\n",
      "gagcag : 24\n",
      "agcggg : 26\n",
      "agatgg : 24\n",
      "atggct : 24\n",
      "tctgaa : 24\n",
      "aggttc : 25\n",
      "agagat : 26\n",
      "ccggtt : 26\n",
      "gattaa : 25\n",
      "ttctga : 26\n",
      "gagtgg : 28\n",
      "aaggag : 25\n",
      "atcgga : 25\n",
      "ccagcg : 25\n",
      "ttcaaa : 25\n",
      "agatta : 24\n"
     ]
    }
   ],
   "source": [
    "count_cutoff = 23\n",
    "for kmer, count in kmer_counts.items():\n",
    "    if count > count_cutoff:\n",
    "        print(kmer + \" : \" + str(count)) "
   ]
  },
  {
   "cell_type": "code",
   "execution_count": 80,
   "metadata": {},
   "outputs": [
    {
     "ename": "ValueError",
     "evalue": "invalid literal for int() with base 10: '-f'",
     "output_type": "error",
     "traceback": [
      "\u001b[1;31m---------------------------------------------------------------------------\u001b[0m",
      "\u001b[1;31mValueError\u001b[0m                                Traceback (most recent call last)",
      "\u001b[1;32m<ipython-input-80-9afbeaf9ca73>\u001b[0m in \u001b[0;36m<module>\u001b[1;34m()\u001b[0m\n\u001b[0;32m      3\u001b[0m \u001b[1;33m\u001b[0m\u001b[0m\n\u001b[0;32m      4\u001b[0m \u001b[1;31m# convert command line arguments to variables\u001b[0m\u001b[1;33m\u001b[0m\u001b[1;33m\u001b[0m\u001b[0m\n\u001b[1;32m----> 5\u001b[1;33m \u001b[0mkmer_size\u001b[0m \u001b[1;33m=\u001b[0m \u001b[0mint\u001b[0m\u001b[1;33m(\u001b[0m\u001b[0msys\u001b[0m\u001b[1;33m.\u001b[0m\u001b[0margv\u001b[0m\u001b[1;33m[\u001b[0m\u001b[1;36m1\u001b[0m\u001b[1;33m]\u001b[0m\u001b[1;33m)\u001b[0m\u001b[1;33m\u001b[0m\u001b[0m\n\u001b[0m\u001b[0;32m      6\u001b[0m \u001b[0mcount_cutoff\u001b[0m \u001b[1;33m=\u001b[0m \u001b[0mint\u001b[0m\u001b[1;33m(\u001b[0m\u001b[0msys\u001b[0m\u001b[1;33m.\u001b[0m\u001b[0margv\u001b[0m\u001b[1;33m[\u001b[0m\u001b[1;36m2\u001b[0m\u001b[1;33m]\u001b[0m\u001b[1;33m)\u001b[0m\u001b[1;33m\u001b[0m\u001b[0m\n\u001b[0;32m      7\u001b[0m \u001b[1;33m\u001b[0m\u001b[0m\n",
      "\u001b[1;31mValueError\u001b[0m: invalid literal for int() with base 10: '-f'"
     ]
    }
   ],
   "source": [
    "import os\n",
    "import sys\n",
    "\n",
    "# convert command line arguments to variables\n",
    "kmer_size = int(sys.argv[1])\n",
    "count_cutoff = int(sys.argv[2])\n",
    "\n",
    "# define the function to split dna\n",
    "def split_dna(dna, kmer_size):\n",
    "    kmers = []\n",
    "    for start in range(0,len(dna)-(kmer_size-1),1):\n",
    "        kmer = dna[start:start+kmer_size]\n",
    "        kmers.append(kmer)\n",
    "    return kmers\n",
    "\n",
    "# create an empty dictionary to hold the counts\n",
    "kmer_counts = {}\n",
    "\n",
    "# process each file with the right name\n",
    "for file_name in os.listdir(\".\"):\n",
    "    if file_name.endswith(\".dna\"):\n",
    "        dna_file = open(file_name)\n",
    "       \n",
    "    # process each DNA sequence in a file\n",
    "    for line in dna_file:\n",
    "        dna = line.rstrip(\"\\n\") \n",
    "\n",
    "        # increase the count for each k-mer that we find\n",
    "        for kmer in split_dna(dna, kmer_size):\n",
    "            current_count = kmer_counts.get(kmer, 0)\n",
    "            new_count = current_count + 1\n",
    "            kmer_counts[kmer] = new_count\n",
    "            \n",
    "# print k-mers whose counts are above the cutoff\n",
    "for kmer, count in kmer_counts.items():\n",
    "    if count > count_cutoff:\n",
    "        print(kmer + \" : \" + str(count)) "
   ]
  }
 ],
 "metadata": {
  "kernelspec": {
   "display_name": "Python 3",
   "language": "python",
   "name": "python3"
  },
  "language_info": {
   "codemirror_mode": {
    "name": "ipython",
    "version": 3
   },
   "file_extension": ".py",
   "mimetype": "text/x-python",
   "name": "python",
   "nbconvert_exporter": "python",
   "pygments_lexer": "ipython3",
   "version": "3.6.4"
  }
 },
 "nbformat": 4,
 "nbformat_minor": 2
}
